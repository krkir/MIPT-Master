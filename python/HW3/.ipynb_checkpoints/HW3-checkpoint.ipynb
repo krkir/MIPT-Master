{
 "cells": [
  {
   "cell_type": "markdown",
   "metadata": {},
   "source": [
    "# Task 2"
   ]
  },
  {
   "cell_type": "code",
   "execution_count": 11,
   "metadata": {},
   "outputs": [
    {
     "name": "stdout",
     "output_type": "stream",
     "text": [
      "-12 3\n",
      "-839\n"
     ]
    }
   ],
   "source": [
    "m, n = input().split()\n",
    "eq = [(-i ** 5) - 5 * (i ** 4) + 8 * (i ** 3) + 12 * (i ** 2) + 30 * i + 11 for i in range(int(m), int(n)+1)]\n",
    "print(min(eq))"
   ]
  },
  {
   "cell_type": "markdown",
   "metadata": {},
   "source": [
    "# Task 3"
   ]
  },
  {
   "cell_type": "code",
   "execution_count": 40,
   "metadata": {},
   "outputs": [
    {
     "name": "stdout",
     "output_type": "stream",
     "text": [
      "9\n",
      "-362880\n"
     ]
    }
   ],
   "source": [
    "from functools import reduce\n",
    "l = [-i if i % 3 == 0 else i for i in range(1, int(input())+1)]\n",
    "print(reduce(lambda x, y: x * y, l))"
   ]
  },
  {
   "cell_type": "markdown",
   "metadata": {},
   "source": [
    "# Task 4"
   ]
  },
  {
   "cell_type": "code",
   "execution_count": 89,
   "metadata": {},
   "outputs": [],
   "source": [
    "def call_count(func):\n",
    "    count = 0\n",
    "    def wrapper(*args, **kwargs):\n",
    "        nonlocal count\n",
    "        count += 1\n",
    "        print(count)\n",
    "        return func(*args, **kwargs)\n",
    "    return wrapper"
   ]
  },
  {
   "cell_type": "markdown",
   "metadata": {},
   "source": [
    "# Task 5"
   ]
  },
  {
   "cell_type": "code",
   "execution_count": 93,
   "metadata": {},
   "outputs": [],
   "source": [
    "import time\n",
    "def print_time(func):\n",
    "    def wrapper(*args, **kwargs):\n",
    "        start = time.perf_counter()\n",
    "        result = func(*args, **kwargs)\n",
    "        end = time.perf_counter()\n",
    "        print(end - start)\n",
    "        return result\n",
    "    return wrapper"
   ]
  },
  {
   "cell_type": "markdown",
   "metadata": {},
   "source": [
    "# Task 6"
   ]
  },
  {
   "cell_type": "code",
   "execution_count": 100,
   "metadata": {},
   "outputs": [],
   "source": [
    "def print_count_debug(func):\n",
    "    count = 0\n",
    "    def wrapper(*args, **kwargs):\n",
    "        nonlocal count\n",
    "        count += 1\n",
    "        if DEBUG:\n",
    "            print(count)\n",
    "        return func(*args, **kwargs)\n",
    "    return wrapper"
   ]
  }
 ],
 "metadata": {
  "kernelspec": {
   "display_name": "Python 3",
   "language": "python",
   "name": "python3"
  },
  "language_info": {
   "codemirror_mode": {
    "name": "ipython",
    "version": 3
   },
   "file_extension": ".py",
   "mimetype": "text/x-python",
   "name": "python",
   "nbconvert_exporter": "python",
   "pygments_lexer": "ipython3",
   "version": "3.7.3"
  }
 },
 "nbformat": 4,
 "nbformat_minor": 2
}
