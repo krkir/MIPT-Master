{
 "cells": [
  {
   "cell_type": "markdown",
   "metadata": {},
   "source": [
    "# Task 1"
   ]
  },
  {
   "cell_type": "code",
   "execution_count": 42,
   "metadata": {},
   "outputs": [
    {
     "name": "stdout",
     "output_type": "stream",
     "text": [
      "2\n",
      "FileExistsError\n",
      "ArithmeticError\n",
      "Other exception\n"
     ]
    }
   ],
   "source": [
    "coms = input().split(sep=\";\") \n",
    "for i in coms:\n",
    "    try:\n",
    "        exec(i)\n",
    "        print(eval(i))\n",
    "    except FileExistsError:\n",
    "        print(\"FileExistsError\")\n",
    "    except KeyError:\n",
    "        print(\"KeyError\")\n",
    "    except ZeroDivisionError:\n",
    "        print(\"ZeroDivisionError\")\n",
    "    except LookupError:\n",
    "        print(\"LookupError\")\n",
    "    except ArithmeticError:\n",
    "        print(\"ArithmeticError\")\n",
    "    except OSError:\n",
    "        print(\"OSError\")\n",
    "    except ValueError:\n",
    "        print(\"ValueError\")\n",
    "    except NameError:\n",
    "        print(\"NameError\")\n",
    "    except Exception as ex:\n",
    "        print(\"Other exception\")\n",
    "    except KeyboardInterrupt as kb:\n",
    "        print(\"Other exception\")"
   ]
  },
  {
   "cell_type": "markdown",
   "metadata": {},
   "source": [
    "# Task 2"
   ]
  },
  {
   "cell_type": "code",
   "execution_count": 57,
   "metadata": {},
   "outputs": [],
   "source": [
    "with open(\"input.txt\", \"r\") as f:\n",
    "    m, n, k = [int(i) for i in f.readline().split()]\n",
    "with open(\"output.txt\", \"w\") as f1:\n",
    "    for i in range(m, n):\n",
    "        if i % k == 2:\n",
    "            f1.write(str(i) + '\\n')"
   ]
  },
  {
   "cell_type": "markdown",
   "metadata": {},
   "source": [
    "# Task 3"
   ]
  },
  {
   "cell_type": "code",
   "execution_count": 63,
   "metadata": {},
   "outputs": [],
   "source": [
    "count = []\n",
    "with open(\"in.txt\", \"r\") as f:\n",
    "    for i in f:\n",
    "        count.append(i.count(\"a\"))\n",
    "with open(\"out.txt\", \"w\") as f1:\n",
    "    f1.write(f\"{sum(count) / len(count)}\")"
   ]
  },
  {
   "cell_type": "markdown",
   "metadata": {},
   "source": [
    "# Task 4"
   ]
  },
  {
   "cell_type": "code",
   "execution_count": 67,
   "metadata": {},
   "outputs": [],
   "source": [
    "d = {\"name\": \"John\", \"age\": 20, \"os\": \"linux\"}\n",
    "with open(\"in\", \"wb\") as pickle_out:\n",
    "    pickle.dump(d, pickle_out)"
   ]
  },
  {
   "cell_type": "code",
   "execution_count": 70,
   "metadata": {},
   "outputs": [],
   "source": [
    "import pickle\n",
    "import json\n",
    "\n",
    "with open(\"in\", \"rb\") as r:\n",
    "    f = pickle.load(r)\n",
    "with open(\"out.txt\", \"w\") as w:\n",
    "    json.dump(f, w, indent=4, sort_keys=True)"
   ]
  },
  {
   "cell_type": "markdown",
   "metadata": {},
   "source": [
    "# Task 5"
   ]
  },
  {
   "cell_type": "code",
   "execution_count": 111,
   "metadata": {},
   "outputs": [],
   "source": [
    "import csv\n",
    "\n",
    "with open('in.txt', \"r\") as csvfile:\n",
    "    data = csv.DictReader(csvfile)\n",
    "    dct = dict()\n",
    "    for k in data.fieldnames:\n",
    "        dct[k] = []\n",
    "    for i in data:\n",
    "        for item in i.items():\n",
    "            dct[item[0]].append(item[1])\n",
    "with open(\"out.txt\", \"w\") as w:\n",
    "    json.dump(dct, w, indent=4, sort_keys=True)"
   ]
  },
  {
   "cell_type": "markdown",
   "metadata": {},
   "source": [
    "# Task 6"
   ]
  },
  {
   "cell_type": "code",
   "execution_count": 118,
   "metadata": {},
   "outputs": [],
   "source": [
    "sum = 0\n",
    "try:\n",
    "    with open(\"in.txt\", \"r\") as f:\n",
    "        for line in f:\n",
    "            sum += float(line)\n",
    "except ValueError:\n",
    "    with open(\"out.txt\", \"w\") as f1:\n",
    "        f1.write(\"nan\")\n",
    "else:\n",
    "    with open(\"out.txt\", \"w\") as f1:\n",
    "        f1.write(f\"{sum}\")"
   ]
  },
  {
   "cell_type": "markdown",
   "metadata": {},
   "source": [
    "# Task 7"
   ]
  },
  {
   "cell_type": "code",
   "execution_count": 145,
   "metadata": {},
   "outputs": [],
   "source": [
    "import json\n",
    "\n",
    "def jsonlogger(file):\n",
    "    def actual_dec(func):\n",
    "        def wrapper(*args, **kwargs):\n",
    "            result = func(*args, **kwargs)\n",
    "            dct = {\"name\" : func.__name__, \"args\" : args, \"kwargs\" : kwargs, \"return\" : result}\n",
    "            with open(file, \"a\") as f:\n",
    "                json.dump(dct, f)\n",
    "                f.write(\"\\n\")\n",
    "        return wrapper\n",
    "    return actual_dec"
   ]
  },
  {
   "cell_type": "code",
   "execution_count": 146,
   "metadata": {},
   "outputs": [
    {
     "name": "stdout",
     "output_type": "stream",
     "text": [
      "None\n",
      "None\n",
      "None\n",
      "None\n",
      "None\n",
      "None\n",
      "None\n"
     ]
    },
    {
     "data": {
      "text/plain": [
       "'out.txt'"
      ]
     },
     "execution_count": 146,
     "metadata": {},
     "output_type": "execute_result"
    }
   ],
   "source": [
    "@jsonlogger('log23.txt')\n",
    "\n",
    "def add5(a):\n",
    "\n",
    "    return a + 5\n",
    "\n",
    "for i in range(20):\n",
    "\n",
    "    if i % 3 != 0:\n",
    "\n",
    "        add5(i)\n",
    "\n",
    "    else:\n",
    "\n",
    "        print(add5(i))\n",
    "\n",
    "import shutil\n",
    "\n",
    "shutil.move('log23.txt', 'out.txt')\n",
    "\n"
   ]
  },
  {
   "cell_type": "markdown",
   "metadata": {},
   "source": [
    "# Task 9"
   ]
  },
  {
   "cell_type": "code",
   "execution_count": 46,
   "metadata": {},
   "outputs": [],
   "source": [
    "id1_2, id2_3, id1_3 =[], [], []\n",
    "with open(\"in.txt\", \"r\") as f:\n",
    "    next(f)\n",
    "    line = f.readline()\n",
    "    while line != \"id2 -> id3\\n\":\n",
    "        id1, id2 = line.split()\n",
    "        id1_2.append((id1, id2))\n",
    "        line = f.readline()\n",
    "    line = f.readline()\n",
    "    while line:\n",
    "        id2, id3 = line.split()\n",
    "        id2_3.append((id2, id3))\n",
    "        line = f.readline()\n",
    "for i in id1_2:\n",
    "    for j in id2_3:\n",
    "        if i[1] == j[0]:\n",
    "            id1_3.append((i[0], j[1]))\n",
    "id1_3 = sorted(id1_3)\n",
    "with open(\"out.txt\", \"w\") as f:\n",
    "    f.write(\"id1 -> id3\\n\")\n",
    "    for i in id1_3:\n",
    "        f.write(f\"{i[0]} {i[1]}\\n\")"
   ]
  },
  {
   "cell_type": "code",
   "execution_count": 39,
   "metadata": {},
   "outputs": [
    {
     "name": "stdout",
     "output_type": "stream",
     "text": [
      "[('2', 'C'), ('2', 'B')]\n"
     ]
    }
   ],
   "source": [
    "print(id2_3)"
   ]
  },
  {
   "cell_type": "code",
   "execution_count": 9,
   "metadata": {},
   "outputs": [],
   "source": [
    "l = \"aaa 111\""
   ]
  },
  {
   "cell_type": "code",
   "execution_count": 10,
   "metadata": {},
   "outputs": [
    {
     "name": "stdout",
     "output_type": "stream",
     "text": [
      "['aaa', '111']\n"
     ]
    }
   ],
   "source": [
    "print(l.split())"
   ]
  },
  {
   "cell_type": "code",
   "execution_count": null,
   "metadata": {},
   "outputs": [],
   "source": []
  }
 ],
 "metadata": {
  "kernelspec": {
   "display_name": "Python 3 (ipykernel)",
   "language": "python",
   "name": "python3"
  },
  "language_info": {
   "codemirror_mode": {
    "name": "ipython",
    "version": 3
   },
   "file_extension": ".py",
   "mimetype": "text/x-python",
   "name": "python",
   "nbconvert_exporter": "python",
   "pygments_lexer": "ipython3",
   "version": "3.9.7"
  }
 },
 "nbformat": 4,
 "nbformat_minor": 2
}
