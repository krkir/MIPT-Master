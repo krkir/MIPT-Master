{
 "cells": [
  {
   "cell_type": "markdown",
   "id": "fdc4988e",
   "metadata": {},
   "source": [
    "Task 1"
   ]
  },
  {
   "cell_type": "code",
   "execution_count": 27,
   "id": "7f56833e",
   "metadata": {},
   "outputs": [],
   "source": [
    "class StringCount:\n",
    "    def __init__(self):\n",
    "        with open(\"in.txt\", \"r\") as f:\n",
    "            self.st = f.readline().rstrip('\\n')\n",
    "        self.a = self.count_a()\n",
    "        \n",
    "    def count_a(self):\n",
    "        res = self.st.count('a') + self.st.count('A')\n",
    "        with open(\"out.txt\", \"w\") as f:\n",
    "            f.write(str(res))\n",
    "        return res"
   ]
  },
  {
   "cell_type": "markdown",
   "id": "f836e4df",
   "metadata": {},
   "source": [
    "Task 2"
   ]
  },
  {
   "cell_type": "code",
   "execution_count": 40,
   "id": "5e67123a",
   "metadata": {},
   "outputs": [],
   "source": [
    "from math import pi as pi\n",
    "\n",
    "class Sphere:             \n",
    "\n",
    "    def __init__(self):\n",
    "        with open(\"in.txt\") as f:\n",
    "            self.r, self.x, self.y, self.z = f.readline().rstrip('\\n').split()\n",
    "        self.v = round(self.calc_V(), 2)\n",
    "        self.write_it()\n",
    "\n",
    "    def calc_V(self):\n",
    "        return 4 / 3 * pi * (float(self.r) ** 3)\n",
    "\n",
    "\n",
    "    def write_it(self):\n",
    "        with open(\"out.txt\", \"w\") as f:\n",
    "            out = f\"X: {self.x} \\nY: {self.y} \\nZ: {self.z} \\nR: {self.r} \\nVolume: {self.v}\"\n",
    "            f.write(out)"
   ]
  },
  {
   "cell_type": "markdown",
   "id": "2759b93c",
   "metadata": {},
   "source": [
    "Task 3"
   ]
  },
  {
   "cell_type": "code",
   "execution_count": 80,
   "id": "046245c1",
   "metadata": {},
   "outputs": [],
   "source": [
    "class Vector:\n",
    "    def __init__(self, coord):\n",
    "        self.coord = coord\n",
    "    \n",
    "    def __add__(self, anVector):\n",
    "        res = []\n",
    "        for i in range(len(self.coord)):\n",
    "            res.append(self.coord[i] + anVector.coord[i])\n",
    "        return Vector(res)\n",
    "    \n",
    "    def __sub__(self, anVector):\n",
    "        res = []\n",
    "        for i in range(len(self.coord)):\n",
    "            res.append(self.coord[i] - anVector.coord[i])\n",
    "        return Vector(res)\n",
    "    \n",
    "    def __mul__(self, anVector):\n",
    "        res = []\n",
    "        if type(anVector) == Vector:\n",
    "            for i in range(len(self.coord)):\n",
    "                res.append(self.coord[i] * anVector.coord[i])\n",
    "            return sum(res)\n",
    "        elif type(anVector) == float:\n",
    "            for i in range(len(self.coord)):\n",
    "                res.append(self.coord[i] * anVector)\n",
    "            return Vector(res)\n",
    "        \n",
    "    def __round__(self, num=0):\n",
    "        res = []\n",
    "        for i in self.coord:\n",
    "            res.append(round(i, num))\n",
    "        return Vector(res)"
   ]
  },
  {
   "cell_type": "code",
   "execution_count": 83,
   "id": "1b7c5599",
   "metadata": {},
   "outputs": [],
   "source": [
    "with open(\"in.txt\", \"r\") as f:\n",
    "    v1 = Vector([float(i) for i in f.readline().rstrip('\\n').split()])\n",
    "    v2 = Vector([float(i) for i in f.readline().rstrip('\\n').split()])\n",
    "    num = float(f.readline().rstrip('\\n'))"
   ]
  },
  {
   "cell_type": "code",
   "execution_count": 84,
   "id": "165cfc23",
   "metadata": {},
   "outputs": [],
   "source": [
    "add = v1 + v2\n",
    "sub = v1 - v2\n",
    "mul_d = v1 * num\n",
    "scalar = v1 * v2\n",
    "with open(\"out.txt\", \"w\") as f:\n",
    "    print(*round(add, 2).coord, file=f)\n",
    "    print(*round(sub, 2).coord, file=f)\n",
    "    print(*round(mul_d, 2).coord, file=f)\n",
    "    print(round(scalar, 2), file=f)"
   ]
  },
  {
   "cell_type": "markdown",
   "id": "91f78e83",
   "metadata": {},
   "source": [
    "Task 4"
   ]
  },
  {
   "cell_type": "code",
   "execution_count": 32,
   "id": "1a0ecef3",
   "metadata": {},
   "outputs": [],
   "source": [
    "class Vector:\n",
    "    def __init__(self, coord):\n",
    "        self.coord = coord\n",
    "    \n",
    "    def __add__(self, anVector):\n",
    "        res = []\n",
    "        for i in range(len(self.coord)):\n",
    "            res.append(self.coord[i] + anVector.coord[i])\n",
    "        return Vector(res)\n",
    "    \n",
    "    def __sub__(self, anVector):\n",
    "        res = []\n",
    "        for i in range(len(self.coord)):\n",
    "            res.append(self.coord[i] - anVector.coord[i])\n",
    "        return Vector(res)\n",
    "    \n",
    "    def __mul__(self, anVector):\n",
    "        res = []\n",
    "        if type(anVector) == Vector:\n",
    "            for i in range(len(self.coord)):\n",
    "                res.append(self.coord[i] * anVector.coord[i])\n",
    "            return sum(res)\n",
    "        elif type(anVector) == float or type(anVector) == int:\n",
    "            for i in range(len(self.coord)):\n",
    "                res.append(self.coord[i] * anVector)\n",
    "            return Vector(res)\n",
    "        \n",
    "    def __round__(self, num=0):\n",
    "        res = []\n",
    "        for i in self.coord:\n",
    "            res.append(round(i, num))\n",
    "        return Vector(res)\n",
    "    \n",
    "    def lenght(self):\n",
    "        return (self * self) ** 0.5\n",
    "    \n",
    "    def norm(self):\n",
    "        return self * (1 / self.lenght())\n",
    "    \n",
    "    def proj(self, anVector):\n",
    "        res = anVector * ((self * anVector) / (anVector * anVector))\n",
    "        return res\n",
    "    \n",
    "    def __str__(self):\n",
    "        res = ' '.join(str(e) for e in self.coord)\n",
    "        return res\n",
    "    \n",
    "    def to_int(self):\n",
    "        res = []\n",
    "        for i in self.coord:\n",
    "            res.append(int(i))\n",
    "        return Vector(res)"
   ]
  },
  {
   "cell_type": "code",
   "execution_count": 33,
   "id": "8c64cc45",
   "metadata": {},
   "outputs": [],
   "source": [
    "with open(\"in.txt\", \"r\") as f:\n",
    "    v1 = Vector([float(i) for i in f.readline().rstrip('\\n').split()])\n",
    "    v2 = Vector([float(i) for i in f.readline().rstrip('\\n').split()])"
   ]
  },
  {
   "cell_type": "code",
   "execution_count": 11,
   "id": "ee382327",
   "metadata": {},
   "outputs": [
    {
     "data": {
      "text/plain": [
       "'4.0 5.0 7.0'"
      ]
     },
     "execution_count": 11,
     "metadata": {},
     "output_type": "execute_result"
    }
   ],
   "source": [
    "str(v2)"
   ]
  },
  {
   "cell_type": "code",
   "execution_count": 12,
   "id": "918efab4",
   "metadata": {},
   "outputs": [],
   "source": [
    "l = v1.lenght()\n",
    "norm = v1.norm()\n",
    "proj = v1.proj(v2)\n",
    "with open(\"out.txt\", \"w\") as f:\n",
    "    print(round(l, 2), file=f)\n",
    "    print(*round(norm, 2).coord, file=f)\n",
    "    print(*round(proj, 2).coord, file=f)"
   ]
  },
  {
   "cell_type": "markdown",
   "id": "d717f356",
   "metadata": {},
   "source": [
    "Task 5"
   ]
  },
  {
   "cell_type": "code",
   "execution_count": 34,
   "id": "fdaa3c0a",
   "metadata": {},
   "outputs": [],
   "source": [
    "class Matrix:\n",
    "    def __init__(self, vectors):\n",
    "        self.vectors = vectors\n",
    "    \n",
    "    def __mul__(self, anMatrix):\n",
    "        res = []\n",
    "        for i in self.vectors:\n",
    "            cur_vec = []\n",
    "            for j in anMatrix.trans().vectors:\n",
    "                cur_vec.append(i * j)\n",
    "            vec_ = Vector(cur_vec)\n",
    "            res.append(vec_)\n",
    "        return Matrix(res)\n",
    "    \n",
    "    def trans(self):\n",
    "        new_vec = []\n",
    "        for i in range(len(vectors[0].coord)):\n",
    "            cur_vec = []\n",
    "            for j in range(len(self.vectors)):\n",
    "                cur_vec.append(self.vectors[j].coord[i])\n",
    "            vec_ = Vector(cur_vec)\n",
    "            new_vec.append(vec_)\n",
    "        return Matrix(new_vec)\n",
    "    \n",
    "    def get_q(self):\n",
    "        res = []\n",
    "        for i in self.vectors:\n",
    "            b = i\n",
    "            if res != []:\n",
    "                for j in res:\n",
    "                    b -= i.proj(j)\n",
    "            res.append(b)\n",
    "        basis = []\n",
    "        for t in res:\n",
    "            basis.append(int(round(t.norm())))\n",
    "        return Matrix(basis)\n",
    "    \n",
    "    def get_r(self):\n",
    "        return self.get_q() * self\n",
    "    \n",
    "    def QR(self):\n",
    "        return self.get_q(), self.get_r()\n",
    "    \n",
    "    def __str__(self):\n",
    "        res = \"\\n\".join(str(e) for e in self.vectors)\n",
    "        return res"
   ]
  },
  {
   "cell_type": "code",
   "execution_count": 35,
   "id": "5d23e7d7",
   "metadata": {},
   "outputs": [
    {
     "name": "stdout",
     "output_type": "stream",
     "text": [
      "1 2\n",
      "3 4\n"
     ]
    },
    {
     "ename": "TypeError",
     "evalue": "__int__ returned non-int (type Vector)",
     "output_type": "error",
     "traceback": [
      "\u001b[0;31m---------------------------------------------------------------------------\u001b[0m",
      "\u001b[0;31mTypeError\u001b[0m                                 Traceback (most recent call last)",
      "\u001b[0;32m/tmp/ipykernel_2855/605113481.py\u001b[0m in \u001b[0;36m<module>\u001b[0;34m\u001b[0m\n\u001b[1;32m     10\u001b[0m \u001b[0;34m\u001b[0m\u001b[0m\n\u001b[1;32m     11\u001b[0m \u001b[0mm\u001b[0m \u001b[0;34m=\u001b[0m \u001b[0mMatrix\u001b[0m\u001b[0;34m(\u001b[0m\u001b[0mvectors\u001b[0m\u001b[0;34m)\u001b[0m\u001b[0;34m\u001b[0m\u001b[0;34m\u001b[0m\u001b[0m\n\u001b[0;32m---> 12\u001b[0;31m \u001b[0mQ\u001b[0m\u001b[0;34m,\u001b[0m \u001b[0mR\u001b[0m \u001b[0;34m=\u001b[0m \u001b[0mm\u001b[0m\u001b[0;34m.\u001b[0m\u001b[0mQR\u001b[0m\u001b[0;34m(\u001b[0m\u001b[0;34m)\u001b[0m\u001b[0;34m\u001b[0m\u001b[0;34m\u001b[0m\u001b[0m\n\u001b[0m\u001b[1;32m     13\u001b[0m \u001b[0mprint\u001b[0m\u001b[0;34m(\u001b[0m\u001b[0mQ\u001b[0m \u001b[0;34m*\u001b[0m \u001b[0mR\u001b[0m\u001b[0;34m)\u001b[0m\u001b[0;34m\u001b[0m\u001b[0;34m\u001b[0m\u001b[0m\n\u001b[1;32m     14\u001b[0m \u001b[0mprint\u001b[0m\u001b[0;34m(\u001b[0m\u001b[0mm\u001b[0m\u001b[0;34m)\u001b[0m\u001b[0;34m\u001b[0m\u001b[0;34m\u001b[0m\u001b[0m\n",
      "\u001b[0;32m/tmp/ipykernel_2855/3547854209.py\u001b[0m in \u001b[0;36mQR\u001b[0;34m(self)\u001b[0m\n\u001b[1;32m     40\u001b[0m \u001b[0;34m\u001b[0m\u001b[0m\n\u001b[1;32m     41\u001b[0m     \u001b[0;32mdef\u001b[0m \u001b[0mQR\u001b[0m\u001b[0;34m(\u001b[0m\u001b[0mself\u001b[0m\u001b[0;34m)\u001b[0m\u001b[0;34m:\u001b[0m\u001b[0;34m\u001b[0m\u001b[0;34m\u001b[0m\u001b[0m\n\u001b[0;32m---> 42\u001b[0;31m         \u001b[0;32mreturn\u001b[0m \u001b[0mself\u001b[0m\u001b[0;34m.\u001b[0m\u001b[0mget_q\u001b[0m\u001b[0;34m(\u001b[0m\u001b[0;34m)\u001b[0m\u001b[0;34m,\u001b[0m \u001b[0mself\u001b[0m\u001b[0;34m.\u001b[0m\u001b[0mget_r\u001b[0m\u001b[0;34m(\u001b[0m\u001b[0;34m)\u001b[0m\u001b[0;34m\u001b[0m\u001b[0;34m\u001b[0m\u001b[0m\n\u001b[0m\u001b[1;32m     43\u001b[0m \u001b[0;34m\u001b[0m\u001b[0m\n\u001b[1;32m     44\u001b[0m     \u001b[0;32mdef\u001b[0m \u001b[0m__str__\u001b[0m\u001b[0;34m(\u001b[0m\u001b[0mself\u001b[0m\u001b[0;34m)\u001b[0m\u001b[0;34m:\u001b[0m\u001b[0;34m\u001b[0m\u001b[0;34m\u001b[0m\u001b[0m\n",
      "\u001b[0;32m/tmp/ipykernel_2855/3547854209.py\u001b[0m in \u001b[0;36mget_q\u001b[0;34m(self)\u001b[0m\n\u001b[1;32m     33\u001b[0m         \u001b[0mbasis\u001b[0m \u001b[0;34m=\u001b[0m \u001b[0;34m[\u001b[0m\u001b[0;34m]\u001b[0m\u001b[0;34m\u001b[0m\u001b[0;34m\u001b[0m\u001b[0m\n\u001b[1;32m     34\u001b[0m         \u001b[0;32mfor\u001b[0m \u001b[0mt\u001b[0m \u001b[0;32min\u001b[0m \u001b[0mres\u001b[0m\u001b[0;34m:\u001b[0m\u001b[0;34m\u001b[0m\u001b[0;34m\u001b[0m\u001b[0m\n\u001b[0;32m---> 35\u001b[0;31m             \u001b[0mbasis\u001b[0m\u001b[0;34m.\u001b[0m\u001b[0mappend\u001b[0m\u001b[0;34m(\u001b[0m\u001b[0mint\u001b[0m\u001b[0;34m(\u001b[0m\u001b[0mround\u001b[0m\u001b[0;34m(\u001b[0m\u001b[0mt\u001b[0m\u001b[0;34m.\u001b[0m\u001b[0mnorm\u001b[0m\u001b[0;34m(\u001b[0m\u001b[0;34m)\u001b[0m\u001b[0;34m)\u001b[0m\u001b[0;34m)\u001b[0m\u001b[0;34m)\u001b[0m\u001b[0;34m\u001b[0m\u001b[0;34m\u001b[0m\u001b[0m\n\u001b[0m\u001b[1;32m     36\u001b[0m         \u001b[0;32mreturn\u001b[0m \u001b[0mMatrix\u001b[0m\u001b[0;34m(\u001b[0m\u001b[0mbasis\u001b[0m\u001b[0;34m)\u001b[0m\u001b[0;34m\u001b[0m\u001b[0;34m\u001b[0m\u001b[0m\n\u001b[1;32m     37\u001b[0m \u001b[0;34m\u001b[0m\u001b[0m\n",
      "\u001b[0;31mTypeError\u001b[0m: __int__ returned non-int (type Vector)"
     ]
    }
   ],
   "source": [
    "vectors = []\n",
    "m1 = input().split()\n",
    "v = Vector([int(i) for i in m1])\n",
    "vectors.append(v)\n",
    "for i in range(len(m1) - 1):\n",
    "    m2 = input().split()\n",
    "    v = Vector([int(i) for i in m2])\n",
    "    vectors.append(v)\n",
    "\n",
    "\n",
    "m = Matrix(vectors)\n",
    "Q, R = m.QR()\n",
    "print(Q * R)\n",
    "print(m)"
   ]
  },
  {
   "cell_type": "code",
   "execution_count": null,
   "id": "6c7a2bb7",
   "metadata": {},
   "outputs": [],
   "source": []
  }
 ],
 "metadata": {
  "kernelspec": {
   "display_name": "Python 3 (ipykernel)",
   "language": "python",
   "name": "python3"
  },
  "language_info": {
   "codemirror_mode": {
    "name": "ipython",
    "version": 3
   },
   "file_extension": ".py",
   "mimetype": "text/x-python",
   "name": "python",
   "nbconvert_exporter": "python",
   "pygments_lexer": "ipython3",
   "version": "3.9.7"
  }
 },
 "nbformat": 4,
 "nbformat_minor": 5
}
