{
 "cells": [
  {
   "cell_type": "code",
   "execution_count": 25,
   "metadata": {},
   "outputs": [
    {
     "name": "stdout",
     "output_type": "stream",
     "text": [
      "4R#LVX3GHC*\n"
     ]
    }
   ],
   "source": [
    "input_string = input()"
   ]
  },
  {
   "cell_type": "code",
   "execution_count": 26,
   "metadata": {},
   "outputs": [
    {
     "data": {
      "text/plain": [
       "'4R#LVX3GHC*'"
      ]
     },
     "execution_count": 26,
     "metadata": {},
     "output_type": "execute_result"
    }
   ],
   "source": [
    "input_string"
   ]
  },
  {
   "cell_type": "code",
   "execution_count": 27,
   "metadata": {},
   "outputs": [],
   "source": [
    "digits = str(\"0 1 2 3 4 5 6 7 8 9\").split()\n",
    "op = str()\n",
    "nums = []\n",
    "for ch in input_string:\n",
    "    if ch == \"+\" or ch == \"*\":\n",
    "        op = ch\n",
    "    elif ch in digits:\n",
    "        nums.append(int(ch))"
   ]
  },
  {
   "cell_type": "code",
   "execution_count": 28,
   "metadata": {},
   "outputs": [
    {
     "data": {
      "text/plain": [
       "'*'"
      ]
     },
     "execution_count": 28,
     "metadata": {},
     "output_type": "execute_result"
    }
   ],
   "source": [
    "op"
   ]
  },
  {
   "cell_type": "code",
   "execution_count": 29,
   "metadata": {},
   "outputs": [
    {
     "data": {
      "text/plain": [
       "[4, 3]"
      ]
     },
     "execution_count": 29,
     "metadata": {},
     "output_type": "execute_result"
    }
   ],
   "source": [
    "nums"
   ]
  },
  {
   "cell_type": "code",
   "execution_count": 13,
   "metadata": {},
   "outputs": [
    {
     "data": {
      "text/plain": [
       "['0', '1', '2', '3', '4', '5', '6', '7', '8', '9']"
      ]
     },
     "execution_count": 13,
     "metadata": {},
     "output_type": "execute_result"
    }
   ],
   "source": [
    "d"
   ]
  },
  {
   "cell_type": "code",
   "execution_count": 34,
   "metadata": {},
   "outputs": [],
   "source": [
    "d = []"
   ]
  },
  {
   "cell_type": "code",
   "execution_count": 35,
   "metadata": {},
   "outputs": [],
   "source": [
    "for i in d:\n",
    "    print(1)"
   ]
  },
  {
   "cell_type": "code",
   "execution_count": 40,
   "metadata": {},
   "outputs": [],
   "source": [
    "def find_even(*args):\n",
    "    result = []\n",
    "    for i in args:\n",
    "        if i % 2 == 0:\n",
    "            result.append(i)\n",
    "    if len(result) == 0:\n",
    "        result = \"Not found\"\n",
    "    return result"
   ]
  },
  {
   "cell_type": "code",
   "execution_count": 33,
   "metadata": {},
   "outputs": [
    {
     "name": "stdout",
     "output_type": "stream",
     "text": [
      "20 7 9 24 21\n"
     ]
    }
   ],
   "source": [
    "st = [int(i) for i in input().split()]"
   ]
  },
  {
   "cell_type": "code",
   "execution_count": 34,
   "metadata": {},
   "outputs": [
    {
     "data": {
      "text/plain": [
       "[20, 7, 9, 24, 21]"
      ]
     },
     "execution_count": 34,
     "metadata": {},
     "output_type": "execute_result"
    }
   ],
   "source": [
    "st"
   ]
  },
  {
   "cell_type": "code",
   "execution_count": 3,
   "metadata": {},
   "outputs": [],
   "source": [
    "def digital_concat(n, k):\n",
    "    result = 0\n",
    "    f = [int(n*(i+1)) for i in range(k)]\n",
    "    for num in f:\n",
    "        result += num\n",
    "    return result"
   ]
  },
  {
   "cell_type": "code",
   "execution_count": 6,
   "metadata": {},
   "outputs": [
    {
     "data": {
      "text/plain": [
       "62238544"
      ]
     },
     "execution_count": 6,
     "metadata": {},
     "output_type": "execute_result"
    }
   ],
   "source": [
    "digital_concat(\"61\", 4)"
   ]
  },
  {
   "cell_type": "code",
   "execution_count": 10,
   "metadata": {},
   "outputs": [],
   "source": [
    "from scipy import stats\n",
    "import numpy as np\n",
    "import matplotlib.pyplot as plt\n",
    "\n",
    "x = np.linspace(0, 10, 100)\n",
    "\n",
    "linestyles = [':', '--', '-.', '-']\n",
    "deg_of_freedom = [1, 4, 7, 6]"
   ]
  },
  {
   "cell_type": "code",
   "execution_count": 11,
   "metadata": {},
   "outputs": [
    {
     "data": {
      "text/plain": [
       "array([0.        , 0.00060628, 0.00230569, 0.00493231, 0.00833668,\n",
       "       0.01238452, 0.01695539, 0.02194155, 0.0272469 , 0.03278597,\n",
       "       0.03848301, 0.0442711 , 0.05009142, 0.05589249, 0.06162952,\n",
       "       0.06726377, 0.07276199, 0.07809592, 0.0832418 , 0.0881799 ,\n",
       "       0.09289414, 0.09737172, 0.10160277, 0.10558004, 0.10929859,\n",
       "       0.11275558, 0.11594997, 0.11888236, 0.12155473, 0.12397033,\n",
       "       0.12613343, 0.12804924, 0.12972376, 0.13116361, 0.132376  ,\n",
       "       0.13336856, 0.13414927, 0.13472639, 0.1351084 , 0.1353039 ,\n",
       "       0.13532157, 0.13517012, 0.13485824, 0.13439458, 0.13378768,\n",
       "       0.13304598, 0.13217774, 0.13119108, 0.13009392, 0.12889397,\n",
       "       0.12759874, 0.1262155 , 0.12475126, 0.12321283, 0.12160674,\n",
       "       0.11993928, 0.11821649, 0.11644414, 0.11462777, 0.11277266,\n",
       "       0.11088384, 0.10896609, 0.10702395, 0.10506175, 0.10308357,\n",
       "       0.10109324, 0.09909443, 0.09709054, 0.09508479, 0.09308021,\n",
       "       0.09107961, 0.08908565, 0.08710076, 0.08512725, 0.08316724,\n",
       "       0.08122268, 0.07929538, 0.07738701, 0.0754991 , 0.07363303,\n",
       "       0.07179008, 0.06997138, 0.06817796, 0.06641076, 0.06467058,\n",
       "       0.06295815, 0.0612741 , 0.05961897, 0.05799323, 0.05639724,\n",
       "       0.05483134, 0.05329574, 0.05179065, 0.05031616, 0.04887235,\n",
       "       0.04745923, 0.04607675, 0.04472484, 0.04340337, 0.04211217])"
      ]
     },
     "execution_count": 11,
     "metadata": {},
     "output_type": "execute_result"
    }
   ],
   "source": [
    "stats.chi2.pdf(x, df)"
   ]
  },
  {
   "cell_type": "code",
   "execution_count": 27,
   "metadata": {},
   "outputs": [],
   "source": [
    "def bank(money, years, interest):\n",
    "    result = money * ((1 + interest/1200) ** (12 * years))\n",
    "    return int(result)\n"
   ]
  },
  {
   "cell_type": "code",
   "execution_count": 31,
   "metadata": {},
   "outputs": [
    {
     "data": {
      "text/plain": [
       "305444"
      ]
     },
     "execution_count": 31,
     "metadata": {},
     "output_type": "execute_result"
    }
   ],
   "source": [
    "bank(300000, 1, 1.8)"
   ]
  },
  {
   "cell_type": "code",
   "execution_count": 32,
   "metadata": {},
   "outputs": [
    {
     "name": "stdout",
     "output_type": "stream",
     "text": [
      "10\n"
     ]
    },
    {
     "ename": "TypeError",
     "evalue": "cannot unpack non-iterable float object",
     "output_type": "error",
     "traceback": [
      "\u001b[0;31m---------------------------------------------------------------------------\u001b[0m",
      "\u001b[0;31mTypeError\u001b[0m                                 Traceback (most recent call last)",
      "\u001b[0;32m<ipython-input-32-19167e55f01c>\u001b[0m in \u001b[0;36m<module>\u001b[0;34m\u001b[0m\n\u001b[0;32m----> 1\u001b[0;31m \u001b[0mM\u001b[0m\u001b[0;34m,\u001b[0m \u001b[0mY\u001b[0m\u001b[0;34m,\u001b[0m \u001b[0mI\u001b[0m \u001b[0;34m=\u001b[0m \u001b[0mfloat\u001b[0m\u001b[0;34m(\u001b[0m\u001b[0minput\u001b[0m\u001b[0;34m(\u001b[0m\u001b[0;34m)\u001b[0m\u001b[0;34m)\u001b[0m\u001b[0;34m\u001b[0m\u001b[0;34m\u001b[0m\u001b[0m\n\u001b[0m",
      "\u001b[0;31mTypeError\u001b[0m: cannot unpack non-iterable float object"
     ]
    }
   ],
   "source": [
    "M, Y, I = float(input()) "
   ]
  },
  {
   "cell_type": "code",
   "execution_count": null,
   "metadata": {},
   "outputs": [],
   "source": []
  }
 ],
 "metadata": {
  "kernelspec": {
   "display_name": "Python 3",
   "language": "python",
   "name": "python3"
  },
  "language_info": {
   "codemirror_mode": {
    "name": "ipython",
    "version": 3
   },
   "file_extension": ".py",
   "mimetype": "text/x-python",
   "name": "python",
   "nbconvert_exporter": "python",
   "pygments_lexer": "ipython3",
   "version": "3.7.3"
  }
 },
 "nbformat": 4,
 "nbformat_minor": 2
}
