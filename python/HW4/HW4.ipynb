{
 "cells": [
  {
   "cell_type": "code",
   "execution_count": 2,
   "metadata": {},
   "outputs": [
    {
     "name": "stdout",
     "output_type": "stream",
     "text": [
      "ab ac ad ba bc bd ca cb cd da db dc\n"
     ]
    }
   ],
   "source": [
    "import itertools\n",
    "\n",
    "print(*sorted(map(lambda x: x[0] + x[1], list(itertools.permutations(input(), 2)))))"
   ]
  },
  {
   "cell_type": "code",
   "execution_count": 48,
   "metadata": {},
   "outputs": [
    {
     "name": "stdout",
     "output_type": "stream",
     "text": [
      "ac3t2g3c2a3ta2ta2c2a2g2a2c2gt3cg3t3a2t3c2t2c3tc2g2ag2a2g3a5c5ag3a3c6a5g2a5c3g2t2a2cg2c3t3g3a10gc2g6c3"
     ]
    }
   ],
   "source": [
    "f = itertools.groupby(input())\n",
    "for key, group in f:\n",
    "    t = len(list(group))\n",
    "    if t != 1:\n",
    "        print(key, t, end=\"\", sep=\"\")\n",
    "    else:\n",
    "        print(key, end='', sep='')"
   ]
  },
  {
   "cell_type": "code",
   "execution_count": 50,
   "metadata": {},
   "outputs": [
    {
     "name": "stdout",
     "output_type": "stream",
     "text": [
      "gcccaactaagg 3\n",
      "gcc gcc gca gca gcc gct gca gca gcg gcg gcc gcc gca gca gcc gct gca gca gcg gcg gcc gcc gca gca gcc gct gca gca gcg gcg gac gac gac gaa gac gat gaa gaa gag gag gac gac gac gaa gac gat gaa gaa gag gag gcc gcc gcc gca gca gct gca gca gcg gcg gtc gtc gtc gta gta gtc gta gta gtg gtg gac gac gac gaa gaa gac gat gaa gag gag gac gac gac gaa gaa gac gat gaa gag gag ggc ggc ggc gga gga ggc ggt gga gga ggg ggc ggc ggc gga gga ggc ggt gga gga ggg cgc cgc cga cga cgc cgt cga cga cgg cgg ccg ccc cca cca ccc cct cca cca ccg ccg ccg ccc cca cca ccc cct cca cca ccg ccg cag cac cac caa cac cat caa caa cag cag cag cac cac caa cac cat caa caa cag cag ccg ccc ccc cca cca cct cca cca ccg ccg ctg ctc ctc cta cta ctc cta cta ctg ctg cag cac cac caa caa cac cat caa cag cag cag cac cac caa caa cac cat caa cag cag cgg cgc cgc cga cga cgc cgt cga cga cgg cgg cgc cgc cga cga cgc cgt cga cga cgg cgc cgc cga cga cgc cgt cga cga cgg cgg ccg ccc cca cca ccc cct cca cca ccg ccg ccg ccc cca cca ccc cct cca cca ccg ccg cag cac cac caa cac cat caa caa cag cag cag cac cac caa cac cat caa caa cag cag ccg ccc ccc cca cca cct cca cca ccg ccg ctg ctc ctc cta cta ctc cta cta ctg ctg cag cac cac caa caa cac cat caa cag cag cag cac cac caa caa cac cat caa cag cag cgg cgc cgc cga cga cgc cgt cga cga cgg cgg cgc cgc cga cga cgc cgt cga cga cgg cgc cgc cga cga cgc cgt cga cga cgg cgg ccg ccc cca cca ccc cct cca cca ccg ccg ccg ccc cca cca ccc cct cca cca ccg ccg cag cac cac caa cac cat caa caa cag cag cag cac cac caa cac cat caa caa cag cag ccg ccc ccc cca cca cct cca cca ccg ccg ctg ctc ctc cta cta ctc cta cta ctg ctg cag cac cac caa caa cac cat caa cag cag cag cac cac caa caa cac cat caa cag cag cgg cgc cgc cga cga cgc cgt cga cga cgg cgg cgc cgc cga cga cgc cgt cga cga cgg agc agc agc aga agc agt aga aga agg agg acg acc acc aca acc act aca aca acg acg acg acc acc aca acc act aca aca acg acg acg acc acc aca acc act aca aca acg acg aag aac aac aac aac aat aaa aaa aag aag acg acc acc acc aca act aca aca acg acg atg atc atc atc ata atc ata ata atg atg aag aac aac aac aaa aac aat aaa aag aag aag aac aac aac aaa aac aat aaa aag aag agg agc agc agc aga agc agt aga aga agg agg agc agc agc aga agc agt aga aga agg agc agc agc aga agc agt aga aga agg agg acg acc acc aca acc act aca aca acg acg acg acc acc aca acc act aca aca acg acg acg acc acc aca acc act aca aca acg acg aag aac aac aac aac aat aaa aaa aag aag acg acc acc acc aca act aca aca acg acg atg atc atc atc ata atc ata ata atg atg aag aac aac aac aaa aac aat aaa aag aag aag aac aac aac aaa aac aat aaa aag aag agg agc agc agc aga agc agt aga aga agg agg agc agc agc aga agc agt aga aga agg cgc cgc cgc cga cga cgt cga cga cgg cgg ccg ccc ccc cca cca cct cca cca ccg ccg ccg ccc ccc cca cca cct cca cca ccg ccg ccg ccc ccc cca cca cct cca cca ccg ccg cag cac cac cac caa cat caa caa cag cag cag cac cac cac caa cat caa caa cag cag ctg ctc ctc ctc cta cta cta cta ctg ctg cag cac cac cac caa caa cat caa cag cag cag cac cac cac caa caa cat caa cag cag cgg cgc cgc cgc cga cga cgt cga cga cgg cgg cgc cgc cgc cga cga cgt cga cga cgg tgc tgc tgc tga tga tgc tga tga tgg tgg tcg tcc tcc tca tca tcc tca tca tcg tcg tcg tcc tcc tca tca tcc tca tca tcg tcg tcg tcc tcc tca tca tcc tca tca tcg tcg tag tac tac tac taa tac taa taa tag tag tag tac tac tac taa tac taa taa tag tag tcg tcc tcc tcc tca tca tca tca tcg tcg tag tac tac tac taa taa tac taa tag tag tag tac tac tac taa taa tac taa tag tag tgg tgc tgc tgc tga tga tgc tga tga tgg tgg tgc tgc tgc tga tga tgc tga tga tgg agc agc agc aga aga agc agt aga agg agg acg acc acc aca aca acc act aca acg acg acg acc acc aca aca acc act aca acg acg acg acc acc aca aca acc act aca acg acg aag aac aac aac aaa aac aat aaa aag aag aag aac aac aac aaa aac aat aaa aag aag acg acc acc acc aca aca act aca acg acg atg atc atc atc ata ata atc ata atg atg aag aac aac aac aaa aaa aac aat aag aag agg agc agc agc aga aga agc agt aga agg agg agc agc agc aga aga agc agt aga agg agc agc agc aga aga agc agt aga agg agg acg acc acc aca aca acc act aca acg acg acg acc acc aca aca acc act aca acg acg acg acc acc aca aca acc act aca acg acg aag aac aac aac aaa aac aat aaa aag aag aag aac aac aac aaa aac aat aaa aag aag acg acc acc acc aca aca act aca acg acg atg atc atc atc ata ata atc ata atg atg aag aac aac aac aaa aaa aac aat aag aag agg agc agc agc aga aga agc agt aga agg agg agc agc agc aga aga agc agt aga agg ggc ggc ggc gga gga ggc ggt gga gga ggg gcg gcc gcc gca gca gcc gct gca gca gcg gcg gcc gcc gca gca gcc gct gca gca gcg gcg gcc gcc gca gca gcc gct gca gca gcg gag gac gac gac gaa gac gat gaa gaa gag gag gac gac gac gaa gac gat gaa gaa gag gcg gcc gcc gcc gca gca gct gca gca gcg gtg gtc gtc gtc gta gta gtc gta gta gtg gag gac gac gac gaa gaa gac gat gaa gag gag gac gac gac gaa gaa gac gat gaa gag ggg ggc ggc ggc gga gga ggc ggt gga gga ggc ggc ggc gga gga ggc ggt gga gga ggg gcg gcc gcc gca gca gcc gct gca gca gcg gcg gcc gcc gca gca gcc gct gca gca gcg gcg gcc gcc gca gca gcc gct gca gca gcg gag gac gac gac gaa gac gat gaa gaa gag gag gac gac gac gaa gac gat gaa gaa gag gcg gcc gcc gcc gca gca gct gca gca gcg gtg gtc gtc gtc gta gta gtc gta gta gtg gag gac gac gac gaa gaa gac gat gaa gag gag gac gac gac gaa gaa gac gat gaa gag ggg ggc ggc ggc gga gga ggc ggt gga gga\n"
     ]
    }
   ],
   "source": [
    "import itertools\n",
    "\n",
    "s, k = input().split()\n",
    "count = 0\n",
    "p = list(map(lambda x: \"\".join(x), list(itertools.permutations(s, int(k)))))\n",
    "for i in p:\n",
    "    if \"t\" in i:\n",
    "        count += 1\n",
    "print('%.3f'%(count/len(p)))"
   ]
  },
  {
   "cell_type": "code",
   "execution_count": 80,
   "metadata": {},
   "outputs": [
    {
     "name": "stdout",
     "output_type": "stream",
     "text": [
      "[3338, 5401, 8739, 14140]\n"
     ]
    }
   ],
   "source": [
    "def fibgen(f0, f1):\n",
    "    while True:\n",
    "        yield f0\n",
    "        f0, f1 = f1, f0 + f1\n",
    "\n",
    "import sys\n",
    "\n",
    "from itertools import *\n",
    "\n",
    "gen_fun = fibgen\n",
    "\n",
    "a = gen_fun(7, 10)\n",
    "\n",
    "if sys.getsizeof(a) > 1000:\n",
    "\n",
    "    print(\"Not a generator\")\n",
    "\n",
    "    exit(1)\n",
    "\n",
    "s = 0\n",
    "\n",
    "while s < 189:\n",
    "\n",
    "    s += next(a)\n",
    "\n",
    "print(list(islice(a, 6, 10)))\n"
   ]
  },
  {
   "cell_type": "code",
   "execution_count": 88,
   "metadata": {},
   "outputs": [],
   "source": [
    "from random import choice\n",
    "\n",
    "def genseq(alphabet, length):\n",
    "    while True:\n",
    "        seq = ''\n",
    "        for i in range(length):\n",
    "            seq += choice(alphabet)\n",
    "        yield seq"
   ]
  },
  {
   "cell_type": "code",
   "execution_count": 90,
   "metadata": {},
   "outputs": [],
   "source": [
    "def filter7lessN(a, N):\n",
    "    for i in a:\n",
    "        if i < N and i % 7 == 0:\n",
    "            yield i"
   ]
  },
  {
   "cell_type": "code",
   "execution_count": 97,
   "metadata": {},
   "outputs": [],
   "source": [
    "def sum_product2zip(a, b):\n",
    "    result = 0\n",
    "    for i, j in zip(a, b):\n",
    "            result += i*j\n",
    "    return result"
   ]
  },
  {
   "cell_type": "code",
   "execution_count": 48,
   "metadata": {},
   "outputs": [],
   "source": [
    "def depthcounter(func):\n",
    "    def reset():\n",
    "        wrapper.rdepth = 0\n",
    "        wrapper.ncalls = 0\n",
    "        \n",
    "    def wrapper(*args, **kwargs):\n",
    "        if wrapper.depth == 0:\n",
    "            reset()\n",
    "        wrapper.ncalls += 1\n",
    "        wrapper.depth += 1\n",
    "        print(f\"аргумент:{args}, значение:{wrapper.depth}\")\n",
    "        wrapper.rdepth = max(wrapper.rdepth, wrapper.depth)\n",
    "        result = func(*args, **kwargs)\n",
    "        wrapper.depth -= 1\n",
    "        return result\n",
    "    \n",
    "    wrapper.depth = 0\n",
    "    reset()\n",
    "    return wrapper"
   ]
  },
  {
   "cell_type": "code",
   "execution_count": 49,
   "metadata": {},
   "outputs": [
    {
     "name": "stdout",
     "output_type": "stream",
     "text": [
      "0 0\n",
      "аргумент:(0,), значение:1\n",
      "1 1\n",
      "аргумент:(1,), значение:1\n",
      "1 1\n",
      "1 1\n",
      "аргумент:(2,), значение:1\n",
      "аргумент:(0,), значение:2\n",
      "аргумент:(1,), значение:2\n",
      "3 2\n",
      "3 2\n",
      "аргумент:(10,), значение:1\n",
      "аргумент:(8,), значение:2\n",
      "аргумент:(6,), значение:3\n",
      "аргумент:(4,), значение:4\n",
      "аргумент:(2,), значение:5\n",
      "аргумент:(0,), значение:6\n",
      "аргумент:(1,), значение:6\n",
      "аргумент:(3,), значение:5\n",
      "аргумент:(1,), значение:6\n",
      "аргумент:(2,), значение:6\n",
      "аргумент:(0,), значение:7\n",
      "аргумент:(1,), значение:7\n",
      "аргумент:(5,), значение:4\n",
      "аргумент:(3,), значение:5\n",
      "аргумент:(1,), значение:6\n",
      "аргумент:(2,), значение:6\n",
      "аргумент:(0,), значение:7\n",
      "аргумент:(1,), значение:7\n",
      "аргумент:(4,), значение:5\n",
      "аргумент:(2,), значение:6\n",
      "аргумент:(0,), значение:7\n",
      "аргумент:(1,), значение:7\n",
      "аргумент:(3,), значение:6\n",
      "аргумент:(1,), значение:7\n",
      "аргумент:(2,), значение:7\n",
      "аргумент:(0,), значение:8\n",
      "аргумент:(1,), значение:8\n",
      "аргумент:(7,), значение:3\n",
      "аргумент:(5,), значение:4\n",
      "аргумент:(3,), значение:5\n",
      "аргумент:(1,), значение:6\n",
      "аргумент:(2,), значение:6\n",
      "аргумент:(0,), значение:7\n",
      "аргумент:(1,), значение:7\n",
      "аргумент:(4,), значение:5\n",
      "аргумент:(2,), значение:6\n",
      "аргумент:(0,), значение:7\n",
      "аргумент:(1,), значение:7\n",
      "аргумент:(3,), значение:6\n",
      "аргумент:(1,), значение:7\n",
      "аргумент:(2,), значение:7\n",
      "аргумент:(0,), значение:8\n",
      "аргумент:(1,), значение:8\n",
      "аргумент:(6,), значение:4\n",
      "аргумент:(4,), значение:5\n",
      "аргумент:(2,), значение:6\n",
      "аргумент:(0,), значение:7\n",
      "аргумент:(1,), значение:7\n",
      "аргумент:(3,), значение:6\n",
      "аргумент:(1,), значение:7\n",
      "аргумент:(2,), значение:7\n",
      "аргумент:(0,), значение:8\n",
      "аргумент:(1,), значение:8\n",
      "аргумент:(5,), значение:5\n",
      "аргумент:(3,), значение:6\n",
      "аргумент:(1,), значение:7\n",
      "аргумент:(2,), значение:7\n",
      "аргумент:(0,), значение:8\n",
      "аргумент:(1,), значение:8\n",
      "аргумент:(4,), значение:6\n",
      "аргумент:(2,), значение:7\n",
      "аргумент:(0,), значение:8\n",
      "аргумент:(1,), значение:8\n",
      "аргумент:(3,), значение:7\n",
      "аргумент:(1,), значение:8\n",
      "аргумент:(2,), значение:8\n",
      "аргумент:(0,), значение:9\n",
      "аргумент:(1,), значение:9\n",
      "аргумент:(9,), значение:2\n",
      "аргумент:(7,), значение:3\n",
      "аргумент:(5,), значение:4\n",
      "аргумент:(3,), значение:5\n",
      "аргумент:(1,), значение:6\n",
      "аргумент:(2,), значение:6\n",
      "аргумент:(0,), значение:7\n",
      "аргумент:(1,), значение:7\n",
      "аргумент:(4,), значение:5\n",
      "аргумент:(2,), значение:6\n",
      "аргумент:(0,), значение:7\n",
      "аргумент:(1,), значение:7\n",
      "аргумент:(3,), значение:6\n",
      "аргумент:(1,), значение:7\n",
      "аргумент:(2,), значение:7\n",
      "аргумент:(0,), значение:8\n",
      "аргумент:(1,), значение:8\n",
      "аргумент:(6,), значение:4\n",
      "аргумент:(4,), значение:5\n",
      "аргумент:(2,), значение:6\n",
      "аргумент:(0,), значение:7\n",
      "аргумент:(1,), значение:7\n",
      "аргумент:(3,), значение:6\n",
      "аргумент:(1,), значение:7\n",
      "аргумент:(2,), значение:7\n",
      "аргумент:(0,), значение:8\n",
      "аргумент:(1,), значение:8\n",
      "аргумент:(5,), значение:5\n",
      "аргумент:(3,), значение:6\n",
      "аргумент:(1,), значение:7\n",
      "аргумент:(2,), значение:7\n",
      "аргумент:(0,), значение:8\n",
      "аргумент:(1,), значение:8\n",
      "аргумент:(4,), значение:6\n",
      "аргумент:(2,), значение:7\n",
      "аргумент:(0,), значение:8\n",
      "аргумент:(1,), значение:8\n",
      "аргумент:(3,), значение:7\n",
      "аргумент:(1,), значение:8\n",
      "аргумент:(2,), значение:8\n",
      "аргумент:(0,), значение:9\n",
      "аргумент:(1,), значение:9\n",
      "аргумент:(8,), значение:3\n",
      "аргумент:(6,), значение:4\n",
      "аргумент:(4,), значение:5\n",
      "аргумент:(2,), значение:6\n",
      "аргумент:(0,), значение:7\n",
      "аргумент:(1,), значение:7\n",
      "аргумент:(3,), значение:6\n",
      "аргумент:(1,), значение:7\n",
      "аргумент:(2,), значение:7\n",
      "аргумент:(0,), значение:8\n",
      "аргумент:(1,), значение:8\n",
      "аргумент:(5,), значение:5\n",
      "аргумент:(3,), значение:6\n",
      "аргумент:(1,), значение:7\n",
      "аргумент:(2,), значение:7\n",
      "аргумент:(0,), значение:8\n",
      "аргумент:(1,), значение:8\n",
      "аргумент:(4,), значение:6\n",
      "аргумент:(2,), значение:7\n",
      "аргумент:(0,), значение:8\n",
      "аргумент:(1,), значение:8\n",
      "аргумент:(3,), значение:7\n",
      "аргумент:(1,), значение:8\n",
      "аргумент:(2,), значение:8\n",
      "аргумент:(0,), значение:9\n",
      "аргумент:(1,), значение:9\n",
      "аргумент:(7,), значение:4\n",
      "аргумент:(5,), значение:5\n",
      "аргумент:(3,), значение:6\n",
      "аргумент:(1,), значение:7\n",
      "аргумент:(2,), значение:7\n",
      "аргумент:(0,), значение:8\n",
      "аргумент:(1,), значение:8\n",
      "аргумент:(4,), значение:6\n",
      "аргумент:(2,), значение:7\n",
      "аргумент:(0,), значение:8\n",
      "аргумент:(1,), значение:8\n",
      "аргумент:(3,), значение:7\n",
      "аргумент:(1,), значение:8\n",
      "аргумент:(2,), значение:8\n",
      "аргумент:(0,), значение:9\n",
      "аргумент:(1,), значение:9\n",
      "аргумент:(6,), значение:5\n",
      "аргумент:(4,), значение:6\n",
      "аргумент:(2,), значение:7\n",
      "аргумент:(0,), значение:8\n",
      "аргумент:(1,), значение:8\n",
      "аргумент:(3,), значение:7\n",
      "аргумент:(1,), значение:8\n",
      "аргумент:(2,), значение:8\n",
      "аргумент:(0,), значение:9\n",
      "аргумент:(1,), значение:9\n",
      "аргумент:(5,), значение:6\n",
      "аргумент:(3,), значение:7\n",
      "аргумент:(1,), значение:8\n",
      "аргумент:(2,), значение:8\n",
      "аргумент:(0,), значение:9\n",
      "аргумент:(1,), значение:9\n",
      "аргумент:(4,), значение:7\n",
      "аргумент:(2,), значение:8\n",
      "аргумент:(0,), значение:9\n",
      "аргумент:(1,), значение:9\n",
      "аргумент:(3,), значение:8\n",
      "аргумент:(1,), значение:9\n",
      "аргумент:(2,), значение:9\n",
      "аргумент:(0,), значение:10\n",
      "аргумент:(1,), значение:10\n",
      "177 10\n",
      "177 10\n",
      "аргумент:(5,), значение:1\n",
      "аргумент:(3,), значение:2\n",
      "аргумент:(1,), значение:3\n",
      "аргумент:(2,), значение:3\n",
      "аргумент:(0,), значение:4\n",
      "аргумент:(1,), значение:4\n",
      "аргумент:(4,), значение:2\n",
      "аргумент:(2,), значение:3\n",
      "аргумент:(0,), значение:4\n",
      "аргумент:(1,), значение:4\n",
      "аргумент:(3,), значение:3\n",
      "аргумент:(1,), значение:4\n",
      "аргумент:(2,), значение:4\n",
      "аргумент:(0,), значение:5\n",
      "аргумент:(1,), значение:5\n",
      "15 5\n",
      "аргумент:(1,), значение:1\n",
      "1 1\n"
     ]
    }
   ],
   "source": [
    "@depthcounter\n",
    "def fib(n):\n",
    "    if n <= 0:\n",
    "        return 0\n",
    "    if n == 1:\n",
    "        return 1\n",
    "    else:\n",
    "        return fib(n - 2) + fib(n - 1) \n",
    "\n",
    "print(fib.ncalls, fib.rdepth)\n",
    "fib(0)\n",
    "print(fib.ncalls, fib.rdepth)\n",
    "fib(1)\n",
    "print(fib.ncalls, fib.rdepth)\n",
    "print(fib.ncalls, fib.rdepth)\n",
    "fib(2)\n",
    "print(fib.ncalls, fib.rdepth)\n",
    "print(fib.ncalls, fib.rdepth)\n",
    "fib(10)\n",
    "print(fib.ncalls, fib.rdepth)\n",
    "print(fib.ncalls, fib.rdepth)\n",
    "fib(5)\n",
    "print(fib.ncalls, fib.rdepth)\n",
    "fib(1)\n",
    "print(fib.ncalls, fib.rdepth)"
   ]
  },
  {
   "cell_type": "code",
   "execution_count": 51,
   "metadata": {},
   "outputs": [],
   "source": [
    "a = 5\n",
    "b = a\n",
    "s = list(itertools.permutations([a, b]))"
   ]
  },
  {
   "cell_type": "code",
   "execution_count": 52,
   "metadata": {},
   "outputs": [
    {
     "name": "stdout",
     "output_type": "stream",
     "text": [
      "(5, 5) (5, 5)\n"
     ]
    }
   ],
   "source": [
    "print(*s)"
   ]
  },
  {
   "cell_type": "code",
   "execution_count": null,
   "metadata": {},
   "outputs": [],
   "source": []
  }
 ],
 "metadata": {
  "interpreter": {
   "hash": "e7370f93d1d0cde622a1f8e1c04877d8463912d04d973331ad4851f04de6915a"
  },
  "kernelspec": {
   "display_name": "Python 3",
   "language": "python",
   "name": "python3"
  },
  "language_info": {
   "codemirror_mode": {
    "name": "ipython",
    "version": 3
   },
   "file_extension": ".py",
   "mimetype": "text/x-python",
   "name": "python",
   "nbconvert_exporter": "python",
   "pygments_lexer": "ipython3",
   "version": "3.7.3"
  }
 },
 "nbformat": 4,
 "nbformat_minor": 2
}
