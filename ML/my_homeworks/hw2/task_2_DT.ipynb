{
 "cells": [
  {
   "cell_type": "code",
   "execution_count": 2,
   "metadata": {},
   "outputs": [],
   "source": [
    "import numpy as np\n",
    "import pandas as pd\n",
    "import matplotlib.pyplot as plt\n",
    "\n",
    "from sklearn.tree import DecisionTreeClassifier\n",
    "from sklearn.metrics import accuracy_score\n",
    "from sklearn.model_selection import GridSearchCV, cross_val_score\n",
    "\n",
    "\n",
    "%matplotlib inline"
   ]
  },
  {
   "cell_type": "markdown",
   "metadata": {},
   "source": [
    "Будем работать с 1 датасетом"
   ]
  },
  {
   "cell_type": "code",
   "execution_count": 3,
   "metadata": {},
   "outputs": [],
   "source": [
    "train_df = pd.read_csv(\"./1_train.csv\")\n",
    "X_train = train_df.drop(\"y\", axis=1)\n",
    "y_train = train_df[\"y\"]\n",
    "test_df = pd.read_csv(\"./1_test.csv\")\n",
    "X_test = test_df.drop(\"y\", axis=1)\n",
    "y_test = test_df[\"y\"]"
   ]
  },
  {
   "cell_type": "code",
   "execution_count": 6,
   "metadata": {},
   "outputs": [
    {
     "data": {
      "text/plain": [
       "0        3\n",
       "1       10\n",
       "2       12\n",
       "3       12\n",
       "4        1\n",
       "        ..\n",
       "3886    11\n",
       "3887    11\n",
       "3888    10\n",
       "3889    11\n",
       "3890    11\n",
       "Name: y, Length: 3891, dtype: int64"
      ]
     },
     "execution_count": 6,
     "metadata": {},
     "output_type": "execute_result"
    }
   ],
   "source": [
    "y_train"
   ]
  },
  {
   "cell_type": "markdown",
   "metadata": {},
   "source": [
    "Определяем оптимальную высоту дерева принятия решений относительно точности (accuracy) классификации на проверочном множестве."
   ]
  },
  {
   "cell_type": "code",
   "execution_count": 4,
   "metadata": {},
   "outputs": [
    {
     "name": "stdout",
     "output_type": "stream",
     "text": [
      "tau = 3 \n",
      "max score = 0.9994859933179131\n"
     ]
    }
   ],
   "source": [
    "accuracy_history_list = np.zeros(12)\n",
    "for t in range(1,11):\n",
    "    tree = DecisionTreeClassifier(max_depth=t)\n",
    "    tree.fit(X_train, y_train)\n",
    "    accuracy_history_list[t] = accuracy_score(y_test, tree.predict(X_test))\n",
    "max_score = max(accuracy_history_list) \n",
    "t = np.where(accuracy_history_list == max_score)[0][0]\n",
    "print(f\"tau = {t} \\nmax score = {max_score}\")"
   ]
  },
  {
   "cell_type": "markdown",
   "metadata": {},
   "source": [
    "Ищем оптимальные критерий и сплиттер"
   ]
  },
  {
   "cell_type": "code",
   "execution_count": 5,
   "metadata": {},
   "outputs": [],
   "source": [
    "tree_params = {'criterion': [\"gini\", \"entropy\"], 'splitter': [\"best\", \"random\"]}"
   ]
  },
  {
   "cell_type": "code",
   "execution_count": 6,
   "metadata": {},
   "outputs": [
    {
     "name": "stdout",
     "output_type": "stream",
     "text": [
      "Fitting 4 folds for each of 4 candidates, totalling 16 fits\n"
     ]
    },
    {
     "data": {
      "text/plain": [
       "GridSearchCV(cv=4, estimator=DecisionTreeClassifier(max_depth=3), n_jobs=-1,\n",
       "             param_grid={'criterion': ['gini', 'entropy'],\n",
       "                         'splitter': ['best', 'random']},\n",
       "             verbose=True)"
      ]
     },
     "execution_count": 6,
     "metadata": {},
     "output_type": "execute_result"
    }
   ],
   "source": [
    "tree = DecisionTreeClassifier(max_depth=3)\n",
    "tree_grid = GridSearchCV(tree, tree_params, n_jobs=-1, verbose=True, cv=4)\n",
    "tree_grid.fit(X_train, y_train)"
   ]
  },
  {
   "cell_type": "code",
   "execution_count": 7,
   "metadata": {},
   "outputs": [
    {
     "data": {
      "text/plain": [
       "{'criterion': 'entropy', 'splitter': 'best'}"
      ]
     },
     "execution_count": 7,
     "metadata": {},
     "output_type": "execute_result"
    }
   ],
   "source": [
    "tree_grid.best_params_"
   ]
  },
  {
   "cell_type": "code",
   "execution_count": 8,
   "metadata": {},
   "outputs": [
    {
     "data": {
      "text/plain": [
       "0.9997429966589566"
      ]
     },
     "execution_count": 8,
     "metadata": {},
     "output_type": "execute_result"
    }
   ],
   "source": [
    "accuracy_score(y_test, tree_grid.predict(X_test))"
   ]
  },
  {
   "cell_type": "markdown",
   "metadata": {},
   "source": [
    "Повторим для всех датасетов"
   ]
  },
  {
   "cell_type": "code",
   "execution_count": 3,
   "metadata": {},
   "outputs": [],
   "source": [
    "train_df = []\n",
    "X_train = []\n",
    "y_train = []\n",
    "test_df = []\n",
    "X_test = []\n",
    "y_test = []\n",
    "for i in range(1, 22):\n",
    "    train_df.append(pd.read_csv(f\"./{i}_train.csv\"))\n",
    "    X_train.append(train_df[i-1].drop(\"y\", axis=1))\n",
    "    y_train.append(train_df[i-1][\"y\"])\n",
    "    test_df.append(pd.read_csv(f\"./{i}_test.csv\"))\n",
    "    X_test.append(test_df[i-1].drop(\"y\", axis=1))\n",
    "    y_test.append(test_df[i-1][\"y\"])"
   ]
  },
  {
   "cell_type": "code",
   "execution_count": 4,
   "metadata": {},
   "outputs": [
    {
     "name": "stdout",
     "output_type": "stream",
     "text": [
      "Для 1-го датасета: \n",
      "tau = 3 \n",
      "max score = 0.9994859933179131\n",
      "Для 2-го датасета: \n",
      "tau = 9 \n",
      "max score = 0.6442748091603053\n",
      "Для 3-го датасета: \n",
      "tau = 1 \n",
      "max score = 1.0\n",
      "Для 4-го датасета: \n",
      "tau = 5 \n",
      "max score = 0.9892173913043478\n",
      "Для 5-го датасета: \n",
      "tau = 1 \n",
      "max score = 0.9956709956709957\n",
      "Для 6-го датасета: \n",
      "tau = 3 \n",
      "max score = 0.9922737306843267\n",
      "Для 7-го датасета: \n",
      "tau = 3 \n",
      "max score = 0.9953488372093023\n",
      "Для 8-го датасета: \n",
      "tau = 2 \n",
      "max score = 0.997920997920998\n",
      "Для 9-го датасета: \n",
      "tau = 4 \n",
      "max score = 0.8137254901960784\n",
      "Для 10-го датасета: \n",
      "tau = 4 \n",
      "max score = 0.9935613682092556\n",
      "Для 11-го датасета: \n",
      "tau = 1 \n",
      "max score = 0.999195171026157\n",
      "Для 12-го датасета: \n",
      "tau = 7 \n",
      "max score = 0.8664047151277013\n",
      "Для 13-го датасета: \n",
      "tau = 7 \n",
      "max score = 0.6155963302752293\n",
      "Для 14-го датасета: \n",
      "tau = 6 \n",
      "max score = 0.9637205712080278\n",
      "Для 15-го датасета: \n",
      "tau = 1 \n",
      "max score = 1.0\n",
      "Для 16-го датасета: \n",
      "tau = 1 \n",
      "max score = 1.0\n",
      "Для 17-го датасета: \n",
      "tau = 7 \n",
      "max score = 0.8146286990508096\n",
      "Для 18-го датасета: \n",
      "tau = 5 \n",
      "max score = 0.9344750558451228\n",
      "Для 19-го датасета: \n",
      "tau = 7 \n",
      "max score = 0.813953488372093\n",
      "Для 20-го датасета: \n",
      "tau = 7 \n",
      "max score = 0.9671156893819335\n",
      "Для 21-го датасета: \n",
      "tau = 8 \n",
      "max score = 0.7805960684844642\n"
     ]
    }
   ],
   "source": [
    "for i in range(0, 21):\n",
    "    accuracy_history_list = np.zeros(21)\n",
    "    for t in range(1,12):\n",
    "        tree = DecisionTreeClassifier(max_depth=t)\n",
    "        tree.fit(X_train[i], y_train[i])\n",
    "        accuracy_history_list[t] = accuracy_score(y_test[i], tree.predict(X_test[i]))\n",
    "    max_score = max(accuracy_history_list) \n",
    "    t = np.where(accuracy_history_list == max_score)[0][0]\n",
    "    print(f\"Для {i+1}-го датасета: \\ntau = {t} \\nmax score = {max_score}\")"
   ]
  },
  {
   "cell_type": "markdown",
   "metadata": {},
   "source": [
    "Самое высокое - 21 датасет(11), самое низкое - 16 датасет(1)"
   ]
  },
  {
   "cell_type": "code",
   "execution_count": 11,
   "metadata": {},
   "outputs": [
    {
     "data": {
      "image/png": "[encoded data removed]",
      "text/plain": [
       "<Figure size 1152x720 with 1 Axes>"
      ]
     },
     "metadata": {
      "needs_background": "light"
     },
     "output_type": "display_data"
    }
   ],
   "source": [
    "max_min = [20, 15]\n",
    "accuracy_history_list = [np.zeros(13), np.zeros(13)]\n",
    "for i in max_min:\n",
    "    for t in range(1,12):\n",
    "        tree = DecisionTreeClassifier(max_depth=t)\n",
    "        tree.fit(X_train[i], y_train[i])\n",
    "        accuracy_history_list[i//20][t] = accuracy_score(y_test[i], tree.predict(X_test[i]))\n",
    "plt.figure(figsize=(16, 10))\n",
    "plt.plot(range(1,12),accuracy_history_list[0][1:12], color=\"green\", label=\"depth=1(16 set)\", linewidth=3)\n",
    "plt.plot(range(1,12),accuracy_history_list[1][1:12], color=\"red\", label=\"depth=19(21 set)\", linewidth=3)\n",
    "plt.show()"
   ]
  },
  {
   "cell_type": "markdown",
   "metadata": {},
   "source": [
    "Делаем лес"
   ]
  },
  {
   "cell_type": "code",
   "execution_count": 6,
   "metadata": {},
   "outputs": [],
   "source": [
    "from sklearn.ensemble import RandomForestClassifier"
   ]
  },
  {
   "cell_type": "code",
   "execution_count": 16,
   "metadata": {},
   "outputs": [
    {
     "name": "stdout",
     "output_type": "stream",
     "text": [
      "Для 1-го датасета: \n",
      "score_test = 0.9992289899768697 \n",
      "score_train = 1.0\n",
      "Для 2-го датасета: \n",
      "score_test = 0.5480916030534351 \n",
      "score_train = 1.0\n",
      "Для 3-го датасета: \n",
      "score_test = 0.9995178399228544 \n",
      "score_train = 1.0\n",
      "Для 4-го датасета: \n",
      "score_test = 0.9245217391304348 \n",
      "score_train = 1.0\n",
      "Для 5-го датасета: \n",
      "score_test = 0.9978354978354979 \n",
      "score_train = 1.0\n",
      "Для 6-го датасета: \n",
      "score_test = 0.9939293598233996 \n",
      "score_train = 1.0\n",
      "Для 7-го датасета: \n",
      "score_test = 0.9609302325581396 \n",
      "score_train = 1.0\n",
      "Для 8-го датасета: \n",
      "score_test = 0.9708939708939709 \n",
      "score_train = 1.0\n",
      "Для 9-го датасета: \n",
      "score_test = 0.7784313725490196 \n",
      "score_train = 1.0\n",
      "Для 10-го датасета: \n",
      "score_test = 0.9979879275653923 \n",
      "score_train = 1.0\n",
      "Для 11-го датасета: \n",
      "score_test = 0.999195171026157 \n",
      "score_train = 1.0\n",
      "Для 12-го датасета: \n",
      "score_test = 0.9113106932360371 \n",
      "score_train = 1.0\n",
      "Для 13-го датасета: \n",
      "score_test = 0.4908256880733945 \n",
      "score_train = 1.0\n",
      "Для 14-го датасета: \n",
      "score_test = 0.9556155924353531 \n",
      "score_train = 1.0\n",
      "Для 15-го датасета: \n",
      "score_test = 1.0 \n",
      "score_train = 1.0\n",
      "Для 16-го датасета: \n",
      "score_test = 1.0 \n",
      "score_train = 1.0\n",
      "Для 17-го датасета: \n",
      "score_test = 0.6314907872696818 \n",
      "score_train = 1.0\n",
      "Для 18-го датасета: \n",
      "score_test = 0.8265078183172003 \n",
      "score_train = 1.0\n",
      "Для 19-го датасета: \n",
      "score_test = 0.8177044261065266 \n",
      "score_train = 1.0\n",
      "Для 20-го датасета: \n",
      "score_test = 0.9829635499207607 \n",
      "score_train = 1.0\n",
      "Для 21-го датасета: \n",
      "score_test = 0.8313253012048193 \n",
      "score_train = 1.0\n"
     ]
    }
   ],
   "source": [
    "for i in range(0, 21):\n",
    "    forest = RandomForestClassifier(n_estimators=100, n_jobs=-1)\n",
    "    forest.fit(X_train[i], y_train[i])\n",
    "    score_test = accuracy_score(y_test[i], forest.predict(X_test[i]))\n",
    "    score_train = accuracy_score(y_train[i], forest.predict(X_train[i]))\n",
    "    print(f\"Для {i+1}-го датасета: \\nscore_test = {score_test} \\nscore_train = {score_train}\")"
   ]
  },
  {
   "cell_type": "code",
   "execution_count": 21,
   "metadata": {},
   "outputs": [
    {
     "data": {
      "text/plain": [
       "RandomForestClassifier(max_features=None)"
      ]
     },
     "execution_count": 21,
     "metadata": {},
     "output_type": "execute_result"
    }
   ],
   "source": [
    "forest = RandomForestClassifier(n_estimators=100, criterion=\"gini\", max_features=None)\n",
    "forest.fit(X_train[1], y_train[1])"
   ]
  },
  {
   "cell_type": "code",
   "execution_count": 20,
   "metadata": {},
   "outputs": [
    {
     "name": "stdout",
     "output_type": "stream",
     "text": [
      "0.7628498727735369\n"
     ]
    }
   ],
   "source": [
    "accuracy = accuracy_score(y_test[1], forest.predict(X_test[1]))\n",
    "print(accuracy)"
   ]
  },
  {
   "cell_type": "code",
   "execution_count": null,
   "metadata": {},
   "outputs": [],
   "source": []
  }
 ],
 "metadata": {
  "kernelspec": {
   "display_name": "Python 3 (ipykernel)",
   "language": "python",
   "name": "python3"
  },
  "language_info": {
   "codemirror_mode": {
    "name": "ipython",
    "version": 3
   },
   "file_extension": ".py",
   "mimetype": "text/x-python",
   "name": "python",
   "nbconvert_exporter": "python",
   "pygments_lexer": "ipython3",
   "version": "3.9.7"
  }
 },
 "nbformat": 4,
 "nbformat_minor": 2
}
