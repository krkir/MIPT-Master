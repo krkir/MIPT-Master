{
 "cells": [
  {
   "cell_type": "code",
   "execution_count": 4,
   "metadata": {},
   "outputs": [],
   "source": [
    "import numpy as np\n",
    "import matplotlib.pyplot as plt\n",
    "import pandas as pd\n",
    "from dataclasses import dataclass\n",
    "from sklearn.model_selection import train_test_split\n",
    "from sklearn.preprocessing import MinMaxScaler\n",
    "from sklearn.base import BaseEstimator, RegressorMixin\n",
    "from sklearn.pipeline import make_pipeline\n",
    "from sklearn.metrics import mean_squared_error as mse\n",
    "from sklearn.metrics import mean_absolute_percentage_error as mape"
   ]
  },
  {
   "cell_type": "markdown",
   "metadata": {},
   "source": [
    "Parsing:"
   ]
  },
  {
   "cell_type": "code",
   "execution_count": 5,
   "metadata": {},
   "outputs": [],
   "source": [
    "with open('/home/kirill/учёба/ML/my_homeworks/hw1/1.txt', 'r') as f:\n",
    "    n_features = int(f.readline())\n",
    "    n_objects = int(f.readline())\n",
    "lines = np.loadtxt('/home/kirill/учёба/ML/my_homeworks/hw1/1.txt',max_rows=n_objects, skiprows=2, comments=\"#\", unpack=False)\n",
    "\n",
    "X = lines[:, 0:lines.shape[1]-1]\n",
    "Y = lines[:, lines.shape[1]-1]"
   ]
  },
  {
   "cell_type": "code",
   "execution_count": 6,
   "metadata": {},
   "outputs": [],
   "source": [
    "x_train, x_test, y_train, y_test = train_test_split(X, Y)"
   ]
  },
  {
   "cell_type": "markdown",
   "metadata": {},
   "source": [
    "Out of the box realization"
   ]
  },
  {
   "cell_type": "code",
   "execution_count": 7,
   "metadata": {},
   "outputs": [
    {
     "name": "stdout",
     "output_type": "stream",
     "text": [
      "R2: 0.9999994865565504\n"
     ]
    }
   ],
   "source": [
    "from sklearn.linear_model import LinearRegression, Lasso, Ridge\n",
    "lr = LinearRegression()\n",
    "lr.fit(x_train, y_train)\n",
    "print(f'R2: {lr.score(x_test, y_test)}')"
   ]
  },
  {
   "cell_type": "markdown",
   "metadata": {},
   "source": [
    "Here's my Linear Regression algorithm using SGD or LS:  "
   ]
  },
  {
   "cell_type": "code",
   "execution_count": 8,
   "metadata": {},
   "outputs": [],
   "source": [
    "@dataclass\n",
    "class Linear_Regression(BaseEstimator, RegressorMixin):\n",
    "    '''Linear Rergession with L2 regularization and SGD or LS optimizer\n",
    "    '''\n",
    "    C: float=1.0\n",
    "    batch_size: int=60\n",
    "    lr: float=1e-2\n",
    "    num_steps: int=2000\n",
    "    method: str='SGD'\n",
    "    tau: float=1e-3\n",
    "   \n",
    "\n",
    "    def fit(self, X, Y):\n",
    "        n_objects = len(X)\n",
    "        n_features = X.shape[1]\n",
    "        nrmse_history_list = []\n",
    "        if self.method == 'SGD':\n",
    "            w = np.random.randn(X.shape[1])\n",
    "            for i in range(self.num_steps):\n",
    "                sample_indices = np.random.randint(n_objects, size=self.batch_size)\n",
    "                nrmse = 2 * np.dot(X[sample_indices].T, np.dot(X[sample_indices], w) - Y[sample_indices]) / self.batch_size\n",
    "                w -= self.lr * ( nrmse + self.tau * w)\n",
    "                nrmse_history_list.append(nrmse)\n",
    "            \n",
    "            self.nrmse_history_list = np.array(nrmse_history_list)   \n",
    "            self.w = w\n",
    "            return self\n",
    "        \n",
    "        elif self.method == 'LS':\n",
    "            r = np.linalg.matrix_rank(X)\n",
    "            U, sigma, VT = np.linalg.svd(X, full_matrices=False)\n",
    "            D_plus = np.diag(np.hstack([1/(sigma[:r] ** 2 + self.tau), np.zeros(n_features-r)]))\n",
    "            D = np.diag(np.hstack([sigma[:r], np.zeros(n_features-r)]))\n",
    "            V = VT.T\n",
    "            print(V.shape, D_plus.shape, D.shape, U.T.shape)\n",
    "            X_plus = V.dot(D_plus).dot(D).dot(U.T)\n",
    "            self.w = X_plus.dot(Y)\n",
    "            return self\n",
    "\n",
    "    def predict(self, X):\n",
    "        return np.dot(X, self.w)"
   ]
  },
  {
   "cell_type": "code",
   "execution_count": 9,
   "metadata": {},
   "outputs": [],
   "source": [
    "pipe_1 = make_pipeline(\n",
    "    MinMaxScaler(),\n",
    "    Linear_Regression()\n",
    ")\n",
    "pipe_2 = make_pipeline(\n",
    "    MinMaxScaler(),\n",
    "    Linear_Regression(method='LS'),\n",
    ")"
   ]
  },
  {
   "cell_type": "markdown",
   "metadata": {},
   "source": [
    "$$R^2 = 1 - \\frac{\\sum_i (y_i - a(x_i))^2}{\\sum_i (y_i - \\overline{y}_i)^2}$$"
   ]
  },
  {
   "cell_type": "code",
   "execution_count": 19,
   "metadata": {},
   "outputs": [],
   "source": [
    "def smape(A, F):\n",
    "    return 100/len(A) * np.sum(2 * np.abs(F - A) / (np.abs(A) + np.abs(F)))"
   ]
  },
  {
   "cell_type": "code",
   "execution_count": 10,
   "metadata": {},
   "outputs": [
    {
     "name": "stdout",
     "output_type": "stream",
     "text": [
      "R2: 0.9999994811273234\n"
     ]
    }
   ],
   "source": [
    "pipe_1.fit(x_train, y_train)\n",
    "print(f'R2: {pipe_1.score(x_test, y_test)}')"
   ]
  },
  {
   "cell_type": "code",
   "execution_count": 11,
   "metadata": {
    "scrolled": true
   },
   "outputs": [
    {
     "name": "stdout",
     "output_type": "stream",
     "text": [
      "(428, 428) (428, 428) (428, 428) (428, 873)\n",
      "R2: 0.999999617273263\n"
     ]
    }
   ],
   "source": [
    "pipe_2.fit(x_train, y_train)\n",
    "print(f'R2: {pipe_2.score(x_test, y_test)}')"
   ]
  },
  {
   "cell_type": "code",
   "execution_count": 12,
   "metadata": {},
   "outputs": [],
   "source": [
    "scaler = MinMaxScaler()\n",
    "scaler.fit(x_train)\n",
    "x_scaled = scaler.transform(x_train)\n",
    "x_test_scaled = scaler.transform(x_test)"
   ]
  },
  {
   "cell_type": "code",
   "execution_count": 24,
   "metadata": {},
   "outputs": [
    {
     "name": "stdout",
     "output_type": "stream",
     "text": [
      "MSE: 0.0001263337533105265\n",
      "SMAPE: 0.026632885145693688\n"
     ]
    },
    {
     "data": {
      "image/png": "[encoded data removed]",
      "text/plain": [
       "<Figure size 432x288 with 1 Axes>"
      ]
     },
     "metadata": {
      "needs_background": "light"
     },
     "output_type": "display_data"
    }
   ],
   "source": [
    "lin = Linear_Regression().fit(x_scaled, y_train)\n",
    "y_pred = lin.predict(x_test_scaled)\n",
    "NRMSE = mse(y_test, y_pred)**0.5/(max(y_pred) - min(y_pred))\n",
    "SMAPE = smape(y_test, y_pred)\n",
    "print(f'MSE: {NRMSE}')\n",
    "print(f'SMAPE: {SMAPE}')\n",
    "plt.plot(lin.nrmse_history_list);"
   ]
  },
  {
   "cell_type": "code",
   "execution_count": 25,
   "metadata": {},
   "outputs": [
    {
     "name": "stdout",
     "output_type": "stream",
     "text": [
      "NRMSE: 0.00012573203338486194\n",
      "SMAPE: 0.026336015407236894\n"
     ]
    }
   ],
   "source": [
    "lin = Linear_Regression(\"LS\").fit(x_scaled, y_train)\n",
    "y_pred = lin.predict(x_test_scaled)\n",
    "NRMSE = mse(y_test, y_pred)**0.5/(max(y_pred) - min(y_pred))\n",
    "SMAPE = smape(y_test, y_pred)\n",
    "print(f'NRMSE: {NRMSE}')\n",
    "print(f'SMAPE: {SMAPE}')"
   ]
  },
  {
   "cell_type": "code",
   "execution_count": 26,
   "metadata": {},
   "outputs": [],
   "source": [
    "score_history_list = np.zeros(200)\n",
    "for t in range(200):\n",
    "    pipe = make_pipeline(MinMaxScaler(), Linear_Regression(tau = 1/(100*(t+1))))\n",
    "    pipe.fit(x_train, y_train)\n",
    "    score_history_list[t] = pipe.score(x_test, y_test)"
   ]
  },
  {
   "cell_type": "code",
   "execution_count": 27,
   "metadata": {},
   "outputs": [
    {
     "data": {
      "text/plain": [
       "[<matplotlib.lines.Line2D at 0x7fae5cb5a828>]"
      ]
     },
     "execution_count": 27,
     "metadata": {},
     "output_type": "execute_result"
    },
    {
     "data": {
      "image/png": "[encoded data removed]",
      "text/plain": [
       "<Figure size 432x288 with 1 Axes>"
      ]
     },
     "metadata": {
      "needs_background": "light"
     },
     "output_type": "display_data"
    }
   ],
   "source": [
    "plt.plot(score_history_list)"
   ]
  },
  {
   "cell_type": "code",
   "execution_count": 28,
   "metadata": {},
   "outputs": [
    {
     "name": "stdout",
     "output_type": "stream",
     "text": [
      "tau = 9.523809523809524e-05 \n",
      "max score = 0.9999996056941277\n"
     ]
    }
   ],
   "source": [
    "max_score = max(score_history_list) \n",
    "idx = np.where(score_history_list == max_score)[0][0]\n",
    "t = 1/((idx+1)*100)\n",
    "print(f\"tau = {t} \\nmax score = {max_score}\")"
   ]
  },
  {
   "cell_type": "code",
   "execution_count": 29,
   "metadata": {},
   "outputs": [
    {
     "name": "stdout",
     "output_type": "stream",
     "text": [
      "R2: 0.9999995957638584\n"
     ]
    }
   ],
   "source": [
    "pipe_1 = make_pipeline(\n",
    "    MinMaxScaler(),\n",
    "    Linear_Regression(tau=t)\n",
    ")\n",
    "pipe_1.fit(x_train, y_train)\n",
    "print(f'R2: {pipe_1.score(x_test, y_test)}')"
   ]
  }
 ],
 "metadata": {
  "kernelspec": {
   "display_name": "Python 3",
   "language": "python",
   "name": "python3"
  },
  "language_info": {
   "codemirror_mode": {
    "name": "ipython",
    "version": 3
   },
   "file_extension": ".py",
   "mimetype": "text/x-python",
   "name": "python",
   "nbconvert_exporter": "python",
   "pygments_lexer": "ipython3",
   "version": "3.7.3"
  }
 },
 "nbformat": 4,
 "nbformat_minor": 2
}
