{
 "cells": [
  {
   "cell_type": "code",
   "execution_count": 22,
   "metadata": {},
   "outputs": [],
   "source": [
    "#выражение, которое пытаемся максимизировать\n",
    "#Y = sigma(w1x1 + w2x2 + w3x3 + w4x4 + w5x5 + w6x6)\n",
    "#(x1,x2,x3,x4,x5,x6)=(4,-2 ,7, 5,-11, 1) - такие иксы\n",
    "# пытаемся подобрать w такие, чтобы Y был максимаьным\n",
    "#\n",
    "#\n",
    "#"
   ]
  },
  {
   "cell_type": "code",
   "execution_count": 23,
   "metadata": {},
   "outputs": [],
   "source": [
    "import math\n",
    "\n",
    "def sigmoid(x):\n",
    "    return 1 / (1 + math.exp(-x))"
   ]
  },
  {
   "cell_type": "code",
   "execution_count": 24,
   "metadata": {},
   "outputs": [],
   "source": [
    "# входные данные\n",
    "equation_inputs = [4, -2, 7, 5, -11, 1]\n",
    "# количество весов\n",
    "num_weights = len(equation_inputs)"
   ]
  },
  {
   "cell_type": "code",
   "execution_count": 25,
   "metadata": {},
   "outputs": [
    {
     "name": "stdout",
     "output_type": "stream",
     "text": [
      "[ 3.75694105 -2.50868406 -1.5219798  -2.94725832 -3.6209088   1.52725613]\n",
      "[-1.184223    1.06372314 -1.42789017  3.38479639 -0.71010723  0.73635779]\n",
      "[-2.17272739 -2.09445354 -1.16801608  1.37012403  2.80079893 -0.94583159]\n",
      "[-0.45938165 -2.03939125 -2.5813193  -0.82911337  0.98616039 -1.46929516]\n",
      "[ 0.30262367 -3.32763182 -3.99506651 -1.21905473  2.15537218  0.88985555]\n",
      "[-1.92673497  2.71814584 -0.50903058 -2.69108552 -0.93086091  1.68742579]\n",
      "[-1.1376357   0.05775645 -1.37039708 -0.08728147  3.30636144 -3.66398176]\n",
      "[ 2.9781703   3.62579471 -2.6878584  -3.38904473 -1.12441799 -1.47066511]\n"
     ]
    }
   ],
   "source": [
    "import numpy as np\n",
    "\n",
    "sol_per_pop = 8  # определяем, сколько решений будет у первой \"популяции\"\n",
    "\n",
    "pop_size = (sol_per_pop, num_weights) # таков размер первой популяции.\n",
    "\n",
    "#создаем первую популяцию случайно.\n",
    "new_population = np.random.uniform(low=-4.0, high=4.0, size=pop_size)\n",
    "for elem in new_population:\n",
    "    print(elem)"
   ]
  },
  {
   "cell_type": "code",
   "execution_count": 40,
   "metadata": {},
   "outputs": [],
   "source": [
    "# функция для посчета, насколько ответ подходящий (просто считаем У)\n",
    "def cal_pop_fitness(equation_inputs, pop):\n",
    "    fitness = sigmoid(np.sum(pop*equation_inputs, axis=1))\n",
    "    return fitness\n",
    "\n",
    "\n",
    "def select_mating_pool(pop, fitness, num_parents):\n",
    "    #выбираем наилучших \"родителей\" в популяции\n",
    "    parents = np.empty((num_parents, pop.shape[1]))\n",
    "    for parent_num in range(num_parents):\n",
    "        max_fitness_idx = np.where(fitness == np.max(fitness))\n",
    "        max_fitness_idx = max_fitness_idx[0][0]\n",
    "        parents[parent_num, :] = pop[max_fitness_idx, :]\n",
    "        fitness[max_fitness_idx] = -99999999999\n",
    "    return parents\n",
    "\n",
    "\n",
    "def crossover(parents, offspring_size):\n",
    "    offspring = np.empty(offspring_size)\n",
    "    # Точка, в которой появляется кроссовер \n",
    "    crossover_point = np.uint8(offspring_size[1]/2)\n",
    "    for k in range(offspring_size[0]):\n",
    "     #индекс перого родителя\n",
    "     parent1_idx = k%parents.shape[0]\n",
    "     #индекс второго родителя\n",
    "     parent2_idx = (k+1)%parents.shape[0]\n",
    "     #половину \"генов\" берем от одного родителя\n",
    "     offspring[k, 0:crossover_point] = parents[parent1_idx, 0:crossover_point]\n",
    "     #половину \"генов\" берем от второго родителя\n",
    "     offspring[k, crossover_point:] = parents[parent2_idx, crossover_point:]\n",
    "    return offspring\n",
    "\n",
    "\n",
    "def mutation(offspring_crossover):\n",
    "    # Мутация изменят \"гены\" случайно\n",
    "    for idx in range(offspring_crossover.shape[0]):\n",
    "        # добавим рандомное число в ген\n",
    "        random_value = np.random.uniform(-1.0, 1.0, 1)\n",
    "        offspring_crossover[idx, 4] = offspring_crossover[idx, 4] + random_value\n",
    "    return offspring_crossover"
   ]
  },
  {
   "cell_type": "code",
   "execution_count": 41,
   "metadata": {},
   "outputs": [
    {
     "ename": "TypeError",
     "evalue": "only size-1 arrays can be converted to Python scalars",
     "output_type": "error",
     "traceback": [
      "\u001b[0;31m---------------------------------------------------------------------------\u001b[0m",
      "\u001b[0;31mTypeError\u001b[0m                                 Traceback (most recent call last)",
      "\u001b[0;32m/tmp/ipykernel_8192/386533135.py\u001b[0m in \u001b[0;36m<module>\u001b[0;34m\u001b[0m\n\u001b[1;32m      7\u001b[0m \u001b[0;32mfor\u001b[0m \u001b[0mgeneration\u001b[0m \u001b[0;32min\u001b[0m \u001b[0mrange\u001b[0m\u001b[0;34m(\u001b[0m\u001b[0mnum_generations\u001b[0m\u001b[0;34m)\u001b[0m\u001b[0;34m:\u001b[0m\u001b[0;34m\u001b[0m\u001b[0;34m\u001b[0m\u001b[0m\n\u001b[1;32m      8\u001b[0m     \u001b[0;31m# Подсчиываем \"подходящесть\"\u001b[0m\u001b[0;34m\u001b[0m\u001b[0;34m\u001b[0m\u001b[0m\n\u001b[0;32m----> 9\u001b[0;31m     \u001b[0mfitness\u001b[0m \u001b[0;34m=\u001b[0m \u001b[0mcal_pop_fitness\u001b[0m\u001b[0;34m(\u001b[0m\u001b[0mequation_inputs\u001b[0m\u001b[0;34m,\u001b[0m \u001b[0mnew_population\u001b[0m\u001b[0;34m)\u001b[0m\u001b[0;34m\u001b[0m\u001b[0;34m\u001b[0m\u001b[0m\n\u001b[0m\u001b[1;32m     10\u001b[0m     \u001b[0;31m# выбираем лучших родителей.\u001b[0m\u001b[0;34m\u001b[0m\u001b[0;34m\u001b[0m\u001b[0m\n\u001b[1;32m     11\u001b[0m     parents = select_mating_pool(new_population, fitness, \n",
      "\u001b[0;32m/tmp/ipykernel_8192/2388051409.py\u001b[0m in \u001b[0;36mcal_pop_fitness\u001b[0;34m(equation_inputs, pop)\u001b[0m\n\u001b[1;32m      1\u001b[0m \u001b[0;31m# функция для посчета, насколько ответ подходящий (просто считаем У)\u001b[0m\u001b[0;34m\u001b[0m\u001b[0;34m\u001b[0m\u001b[0m\n\u001b[1;32m      2\u001b[0m \u001b[0;32mdef\u001b[0m \u001b[0mcal_pop_fitness\u001b[0m\u001b[0;34m(\u001b[0m\u001b[0mequation_inputs\u001b[0m\u001b[0;34m,\u001b[0m \u001b[0mpop\u001b[0m\u001b[0;34m)\u001b[0m\u001b[0;34m:\u001b[0m\u001b[0;34m\u001b[0m\u001b[0;34m\u001b[0m\u001b[0m\n\u001b[0;32m----> 3\u001b[0;31m     \u001b[0mfitness\u001b[0m \u001b[0;34m=\u001b[0m \u001b[0msigmoid\u001b[0m\u001b[0;34m(\u001b[0m\u001b[0mnp\u001b[0m\u001b[0;34m.\u001b[0m\u001b[0msum\u001b[0m\u001b[0;34m(\u001b[0m\u001b[0mpop\u001b[0m\u001b[0;34m*\u001b[0m\u001b[0mequation_inputs\u001b[0m\u001b[0;34m,\u001b[0m \u001b[0maxis\u001b[0m\u001b[0;34m=\u001b[0m\u001b[0;36m1\u001b[0m\u001b[0;34m)\u001b[0m\u001b[0;34m)\u001b[0m\u001b[0;34m\u001b[0m\u001b[0;34m\u001b[0m\u001b[0m\n\u001b[0m\u001b[1;32m      4\u001b[0m     \u001b[0;32mreturn\u001b[0m \u001b[0mfitness\u001b[0m\u001b[0;34m\u001b[0m\u001b[0;34m\u001b[0m\u001b[0m\n\u001b[1;32m      5\u001b[0m \u001b[0;34m\u001b[0m\u001b[0m\n",
      "\u001b[0;32m/tmp/ipykernel_8192/1501651968.py\u001b[0m in \u001b[0;36msigmoid\u001b[0;34m(x)\u001b[0m\n\u001b[1;32m      2\u001b[0m \u001b[0;34m\u001b[0m\u001b[0m\n\u001b[1;32m      3\u001b[0m \u001b[0;32mdef\u001b[0m \u001b[0msigmoid\u001b[0m\u001b[0;34m(\u001b[0m\u001b[0mx\u001b[0m\u001b[0;34m)\u001b[0m\u001b[0;34m:\u001b[0m\u001b[0;34m\u001b[0m\u001b[0;34m\u001b[0m\u001b[0m\n\u001b[0;32m----> 4\u001b[0;31m     \u001b[0;32mreturn\u001b[0m \u001b[0;36m1\u001b[0m \u001b[0;34m/\u001b[0m \u001b[0;34m(\u001b[0m\u001b[0;36m1\u001b[0m \u001b[0;34m+\u001b[0m \u001b[0mmath\u001b[0m\u001b[0;34m.\u001b[0m\u001b[0mexp\u001b[0m\u001b[0;34m(\u001b[0m\u001b[0;34m-\u001b[0m\u001b[0mx\u001b[0m\u001b[0;34m)\u001b[0m\u001b[0;34m)\u001b[0m\u001b[0;34m\u001b[0m\u001b[0;34m\u001b[0m\u001b[0m\n\u001b[0m",
      "\u001b[0;31mTypeError\u001b[0m: only size-1 arrays can be converted to Python scalars"
     ]
    }
   ],
   "source": [
    "#количество повторений\n",
    "num_generations = 5\n",
    "\n",
    "#количество \"родителей\", которые участвуют в формировании новых ответов\n",
    "num_parents_mating = 4\n",
    "\n",
    "for generation in range(num_generations):\n",
    "    # Подсчиываем \"подходящесть\"\n",
    "    fitness = cal_pop_fitness(equation_inputs, new_population)\n",
    "    # выбираем лучших родителей.\n",
    "    parents = select_mating_pool(new_population, fitness, \n",
    "                                   num_parents_mating)\n",
    "\n",
    "    # генерируем новый ответ\n",
    "    offspring_crossover = crossover(parents,\n",
    "                                    offspring_size=(pop_size[0]-parents.shape[0], num_weights))\n",
    "\n",
    "    # добавляем \"мутацию\" (случайное смещение).\n",
    "    offspring_mutation = mutation(offspring_crossover)\n",
    "    new_population[0:parents.shape[0], :] = parents\n",
    "    new_population[parents.shape[0]:, :] = offspring_mutation\n",
    "    print(\"Generation \", generation)\n",
    "    print(\"Fitness\")\n",
    "    print(fitness)\n",
    "    print('Parents')\n",
    "    print(parents)\n",
    "    print('Mutation')\n",
    "    print(offspring_mutation)\n",
    "    print(\"Best fitness \", np.max(fitness))\n",
    "    print('-------------------------------------------------------------')"
   ]
  },
  {
   "cell_type": "code",
   "execution_count": null,
   "metadata": {},
   "outputs": [],
   "source": []
  }
 ],
 "metadata": {
  "kernelspec": {
   "display_name": "Python 3 (ipykernel)",
   "language": "python",
   "name": "python3"
  },
  "language_info": {
   "codemirror_mode": {
    "name": "ipython",
    "version": 3
   },
   "file_extension": ".py",
   "mimetype": "text/x-python",
   "name": "python",
   "nbconvert_exporter": "python",
   "pygments_lexer": "ipython3",
   "version": "3.9.7"
  }
 },
 "nbformat": 4,
 "nbformat_minor": 2
}
